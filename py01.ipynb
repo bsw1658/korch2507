{
 "cells": [
  {
   "cell_type": "code",
   "execution_count": 1,
   "id": "cb2b2f49-49f7-487e-bb12-578381761dca",
   "metadata": {},
   "outputs": [
    {
     "name": "stdout",
     "output_type": "stream",
     "text": [
      "Python 3.13.3\n"
     ]
    }
   ],
   "source": [
    "# 파이썬 시작\n",
    "!python -V"
   ]
  },
  {
   "cell_type": "code",
   "execution_count": 2,
   "id": "3f2a7f4d",
   "metadata": {},
   "outputs": [
    {
     "name": "stdout",
     "output_type": "stream",
     "text": [
      "pip 25.0.1 from C:\\Users\\user\\AppData\\Local\\Programs\\Python\\Python313\\Lib\\site-packages\\pip (python 3.13)\n",
      "\n"
     ]
    }
   ],
   "source": [
    "!pip -V"
   ]
  },
  {
   "cell_type": "code",
   "execution_count": 3,
   "id": "2a7a2016",
   "metadata": {},
   "outputs": [
    {
     "name": "stdout",
     "output_type": "stream",
     "text": [
      "9.4.0\n"
     ]
    }
   ],
   "source": [
    "!ipython -V"
   ]
  },
  {
   "cell_type": "code",
   "execution_count": null,
   "id": "d642894b",
   "metadata": {},
   "outputs": [],
   "source": []
  },
  {
   "cell_type": "code",
   "execution_count": 4,
   "id": "f9eecb40",
   "metadata": {},
   "outputs": [
    {
     "ename": "SyntaxError",
     "evalue": "Expected one or more names after 'import' (2125240012.py, line 1)",
     "output_type": "error",
     "traceback": [
      "  \u001b[36mCell\u001b[39m\u001b[36m \u001b[39m\u001b[32mIn[4]\u001b[39m\u001b[32m, line 1\u001b[39m\n\u001b[31m    \u001b[39m\u001b[31mimport\u001b[39m\n          ^\n\u001b[31mSyntaxError\u001b[39m\u001b[31m:\u001b[39m Expected one or more names after 'import'\n"
     ]
    }
   ],
   "source": [
    "import"
   ]
  },
  {
   "cell_type": "markdown",
   "id": "40812de9",
   "metadata": {},
   "source": []
  },
  {
   "cell_type": "markdown",
   "id": "78c1c2cd",
   "metadata": {},
   "source": [
    "# 내장함수\n",
    "\n"
   ]
  },
  {
   "cell_type": "code",
   "execution_count": 6,
   "id": "6970ec10",
   "metadata": {},
   "outputs": [
    {
     "name": "stdout",
     "output_type": "stream",
     "text": [
      "3\n",
      "1.2\n"
     ]
    }
   ],
   "source": [
    "#abs\n",
    "print(abs(-3))\n",
    "print(abs(-1.2))"
   ]
  },
  {
   "cell_type": "code",
   "execution_count": 11,
   "id": "8e782b27",
   "metadata": {},
   "outputs": [
    {
     "name": "stdout",
     "output_type": "stream",
     "text": [
      "True\n",
      "False\n",
      "True\n"
     ]
    }
   ],
   "source": [
    "#all\n",
    "print(all([1,2,3]))\n",
    "print(all([1,2,3,5,8,4,0,10,11]))\n",
    "print(all([])) #빈 리스트는 True로 간주"
   ]
  },
  {
   "cell_type": "markdown",
   "id": "2cc9e8ac",
   "metadata": {},
   "source": []
  },
  {
   "cell_type": "code",
   "execution_count": 15,
   "id": "31a2aa0a",
   "metadata": {},
   "outputs": [
    {
     "name": "stdout",
     "output_type": "stream",
     "text": [
      "True\n",
      "True\n",
      "False\n",
      "False\n"
     ]
    }
   ],
   "source": [
    "print(any([1,2,3,0,4,6,78]))\n",
    "print(any([1,2,3,0,0,0,0,0]))\n",
    "print(any([0,False,\"\"]))\n",
    "print(any([])) #빈 리스트는 False로 간주"
   ]
  },
  {
   "cell_type": "code",
   "execution_count": null,
   "id": "04f951ee",
   "metadata": {},
   "outputs": [],
   "source": [
    "#아스키코드(ASCII code) - 정의 : 컴퓨터가 문자를 숫자로 표현하는 방법\n",
    "#아스키코드는 0~127까지의 숫자로 구성된 문자 인코딩 체계\n",
    "#자동완성은 Tad키로 완성함"
   ]
  },
  {
   "cell_type": "code",
   "execution_count": 24,
   "id": "613772a3",
   "metadata": {},
   "outputs": [
    {
     "name": "stdout",
     "output_type": "stream",
     "text": [
      "A\n",
      "G\n",
      "65\n",
      "71\n",
      "가\n",
      "\u001e\n",
      "\u001e\n"
     ]
    }
   ],
   "source": [
    "print(chr(65)) #65는 'A' 에 해당\n",
    "print(chr(71)) #71은 'G' 에 해당\n",
    "print(ord('A')) # 'A'는 65에 해당\n",
    "print(ord('G')) # 'G'는 71에 해당\n",
    "# 유니코드 (Unicode) - 정의 : 전 세계의 모든 문자를 표현할 수 있는 문자 인코딩 체계로, 아스키코드를 포함\n",
    "print(chr(44032)) # 44032는 '가'에 해당\n",
    "ox=30 #16진수 값을 받은 변수\n",
    "print(chr(int(hex(ox)[2:],16))) # 30은 '0'에 해당 , [2:]는 16진수 문자열에서 '0x'를 제거\n",
    "print(chr(int(hex(ox),16)))"
   ]
  },
  {
   "cell_type": "code",
   "execution_count": 23,
   "id": "8cd95a0c",
   "metadata": {},
   "outputs": [
    {
     "data": {
      "text/plain": [
       "'0x1e'"
      ]
     },
     "execution_count": 23,
     "metadata": {},
     "output_type": "execute_result"
    }
   ],
   "source": [
    "hex(30)"
   ]
  },
  {
   "cell_type": "code",
   "execution_count": 26,
   "id": "20a9d1ab",
   "metadata": {},
   "outputs": [
    {
     "name": "stdout",
     "output_type": "stream",
     "text": [
      "[1, 2, 3, 4]\n"
     ]
    }
   ],
   "source": [
    "arr1 = [1,2,3,4,5]\n",
    "p1 = arr1.pop() # 마지막 요소를 제거하고 반환\n",
    "print(arr1)"
   ]
  },
  {
   "cell_type": "code",
   "execution_count": 27,
   "id": "1daaa557",
   "metadata": {},
   "outputs": [
    {
     "data": {
      "text/plain": [
       "['__add__',\n",
       " '__class__',\n",
       " '__class_getitem__',\n",
       " '__contains__',\n",
       " '__delattr__',\n",
       " '__dir__',\n",
       " '__doc__',\n",
       " '__eq__',\n",
       " '__format__',\n",
       " '__ge__',\n",
       " '__getattribute__',\n",
       " '__getitem__',\n",
       " '__getnewargs__',\n",
       " '__getstate__',\n",
       " '__gt__',\n",
       " '__hash__',\n",
       " '__init__',\n",
       " '__init_subclass__',\n",
       " '__iter__',\n",
       " '__le__',\n",
       " '__len__',\n",
       " '__lt__',\n",
       " '__mul__',\n",
       " '__ne__',\n",
       " '__new__',\n",
       " '__reduce__',\n",
       " '__reduce_ex__',\n",
       " '__repr__',\n",
       " '__rmul__',\n",
       " '__setattr__',\n",
       " '__sizeof__',\n",
       " '__str__',\n",
       " '__subclasshook__',\n",
       " 'count',\n",
       " 'index']"
      ]
     },
     "execution_count": 27,
     "metadata": {},
     "output_type": "execute_result"
    }
   ],
   "source": [
    "dir((1,2,3)) #튜플 객체의 메소드와 속성\n",
    "# dir 객체가 가지고 있는 함수를 보여줌\n",
    "dir([1,2,3]) #리스트 객체의 메소드와 속성\n",
    "dir({'1':'a', '2':'b','3': 'c'}) #딕셔너리 객체의 메소드와 속성"
   ]
  },
  {
   "cell_type": "code",
   "execution_count": 32,
   "id": "f611ad6e",
   "metadata": {},
   "outputs": [
    {
     "name": "stdout",
     "output_type": "stream",
     "text": [
      "3\n",
      "1\n",
      "(3, 1)\n"
     ]
    }
   ],
   "source": [
    "print(13//4) # 몫을 구함\n",
    "print(13%4) # 나머지를 구함\n",
    "print(divmod(13,4)) # 몫과 나머지를 튜플로 반환"
   ]
  },
  {
   "cell_type": "code",
   "execution_count": 35,
   "id": "e1d065d8",
   "metadata": {},
   "outputs": [
    {
     "name": "stdout",
     "output_type": "stream",
     "text": [
      "range(1, 10)\n"
     ]
    }
   ],
   "source": [
    "print(range(1,10))"
   ]
  },
  {
   "cell_type": "code",
   "execution_count": 39,
   "id": "1947406c",
   "metadata": {},
   "outputs": [
    {
     "name": "stdout",
     "output_type": "stream",
     "text": [
      "1 번째 apple\n",
      "2 번째 banana\n",
      "3 번째 cherry\n",
      "4 번째 mango\n",
      "5 번째 kiwi\n"
     ]
    }
   ],
   "source": [
    "fruits = ['apple', 'banana', 'cherry', 'mango', 'kiwi']\n",
    "\n",
    "for i , f in enumerate(fruits): #for xin 순회가능한 객체: \\n print(x)\n",
    "    print((i+1),\"번째\",f)"
   ]
  },
  {
   "cell_type": "code",
   "execution_count": 43,
   "id": "1da78af1",
   "metadata": {},
   "outputs": [
    {
     "name": "stdout",
     "output_type": "stream",
     "text": [
      "1 apple dog\n",
      "2 banana cat\n",
      "3 cherry rabbit\n",
      "4 mango hamster\n",
      "5 kiwi turtle\n"
     ]
    }
   ],
   "source": [
    "fruits = ['apple', 'banana', 'cherry', 'mango', 'kiwi']\n",
    "animals = ['dog', 'cat', 'rabbit', 'hamster', 'turtle']\n",
    "for i , (f ,a) in enumerate(zip(fruits, animals), start=1): #zip은 두 개 이상의 순회 가능한 객체를 묶어줌\n",
    "    print(i, f, a)"
   ]
  },
  {
   "cell_type": "code",
   "execution_count": null,
   "id": "4d1fd615",
   "metadata": {},
   "outputs": [
    {
     "name": "stdout",
     "output_type": "stream",
     "text": [
      "['좋아', '행복'] 2\n",
      "[] 0\n"
     ]
    }
   ],
   "source": [
    "positive_words = [\"좋다\", \"행복\", \"사랑\", \"멋져\", \"훌륭해\"]\n",
    "negative_words = [\"싫다\", \"슬퍼\", \"미워\", \"끔찍해\", \"나빠\"]\n",
    "text = input(\"당신의 기분을 한 문장으로 표현해 주세요: \")\n",
    "#방법1\n",
    "#for v in positive_words:\n",
    "#    if v in text:\n",
    " #       print(\"당신은 긍정적인 기분을 표현했어요!\")\n",
    "#        break  \n",
    "#for n in negative_words:\n",
    "#    if n in text:\n",
    "#        print(\"당신은 부정적인 기분을 표현했어요!\")\n",
    "#        break\n",
    "\n",
    "#방법2\n",
    "#if any(v in text for v in positive_words):\n",
    "#    print(\"당신은 긍정적인 기분을 표현했어요!\") \n",
    "#elif any(n in text for n in negative_words):\n",
    "#    print(\"당신은 부정적인 기분을 표현했어요!\")\n",
    "#else:\n",
    "#    print(\"당신의 기분을 알 수 없어요.\")\n",
    "# 방법3\n",
    "pos = [v for v in positive_words if v in text]\n",
    "print(pos, len(pos))\n",
    "neg = [n for n in negative_words if n in text]\n",
    "print(neg, len(neg))\n",
    "if len(pos) > len(neg):\n",
    "    print(\"당신은 긍정적인 기분을 표현했어요!\")\n",
    "elif len(pos) < len(neg):\n",
    "    print(\"당신은 부정적인 기분을 표현했어요!\")\n",
    "else:\n",
    "    print(\"당신의 기분을 알 수 없어요.\")  #Abs 활용하면 수치로 비교할 수 있음\n",
    "# 방법4\n",
    "\n",
    "\n"
   ]
  },
  {
   "cell_type": "code",
   "execution_count": 60,
   "id": "464670b1",
   "metadata": {},
   "outputs": [
    {
     "name": "stdout",
     "output_type": "stream",
     "text": [
      "['wonderful']\n"
     ]
    }
   ],
   "source": [
    "#pip install konlpy\n",
    "from konlpy.tag import Okt\n",
    "#한글 형태소 분석기\n",
    "okt = Okt()\n",
    "#positive_words = [\"좋다\", \"행복\", \"사랑\", \"멋져\", \"훌륭해\"]\n",
    "#negative_words = [\"싫다\", \"슬퍼\", \"미워\", \"끔찍해\", \"나빠\"]\n",
    "text = input(\"당신의 기분을 한 문장으로 표현해 주세요: \")\n",
    "\n",
    "words = okt.morphs(text, stem=True)  # 형태소 단위로 분리\n",
    "print(words)\n"
   ]
  },
  {
   "cell_type": "markdown",
   "id": "d4c5f0c9",
   "metadata": {},
   "source": [
    "## filter 와 map"
   ]
  },
  {
   "cell_type": "code",
   "execution_count": 20,
   "id": "9356da39",
   "metadata": {},
   "outputs": [
    {
     "name": "stdout",
     "output_type": "stream",
     "text": [
      "[1, 2, 3, 4, 3, 5]\n"
     ]
    }
   ],
   "source": [
    "# filter 는 True인 값만 남김\n",
    "data = [1,2,3,4,-5,0,-1,3,-4,5]\n",
    "def pos(v):\n",
    "    return v > 0  # 예시로 사용된 함수, 각 요소가 양수인지 확인하는 함수\n",
    "\n",
    "print(list(filter(pos, data)))  # ft는 함수로, 각 요소에 대해 True/False를 반환하는 함수여야 함\n",
    "# map 는 함수를 적용한 결과를 반환\n",
    "# filter 와 map 은 모두 이터레이터를 반환\n",
    "\n"
   ]
  },
  {
   "cell_type": "code",
   "execution_count": 18,
   "id": "a1c66e26",
   "metadata": {},
   "outputs": [
    {
     "name": "stdout",
     "output_type": "stream",
     "text": [
      "[1, 2, 3, 4, 3, 5]\n"
     ]
    }
   ],
   "source": [
    "# filter 는 True인 값만 남김\n",
    "data = [1,2,3,4,-5,0,-1,3,-4,5]\n",
    "pos = [True, False, True, True, False, True, False, True, False, True]\n",
    "print(list(filter(lambda v : v>0 , data)))  # ft는 함수로, 각 요소에 대해 True/False를 반환하는 함수여야 함\n",
    "# map 는 함수를 적용한 결과를 반환\n",
    "# filter 와 map 은 모두 이터레이터를 반환\n",
    "\n"
   ]
  },
  {
   "cell_type": "code",
   "execution_count": 21,
   "id": "ba379d13",
   "metadata": {},
   "outputs": [
    {
     "name": "stdout",
     "output_type": "stream",
     "text": [
      "[1, 4, 9, 16, 25, 0, 1, 9, 16, 25]\n"
     ]
    }
   ],
   "source": [
    "data = [1,2,3,4,-5,0,-1,3,-4,5]\n",
    "def pow(v):\n",
    "    return v ** 2  # 예시로 사용된 함수, 각 요소를 제곱하는 함수\n",
    "print(list(map(pow, data)))  # 각 요소에 pow 함수를 적용한 결과를 반환\n"
   ]
  },
  {
   "cell_type": "code",
   "execution_count": 22,
   "id": "134aa053",
   "metadata": {},
   "outputs": [
    {
     "name": "stdout",
     "output_type": "stream",
     "text": [
      "[1, 4, 9, 16, 25, 0, 1, 9, 16, 25]\n"
     ]
    }
   ],
   "source": [
    "data = [1,2,3,4,-5,0,-1,3,-4,5]\n",
    "print(list(map(lambda v:v**2, data)))  # 각 요소에 pow 함수를 적용한 결과를 반환\n"
   ]
  },
  {
   "cell_type": "code",
   "execution_count": null,
   "id": "81c77532",
   "metadata": {},
   "outputs": [
    {
     "name": "stdout",
     "output_type": "stream",
     "text": [
      "[1, 3, 5, 7, 9]\n",
      "[2, 4, 6, 8, 10]\n",
      "[11, 12, 13, 14, 15, 16, 17, 18, 19, 20]\n",
      "[10, 20, 30, 40, 50, 60, 70, 80, 90, 100]\n",
      "[11, 24, 39, 56, 75, 96, 119, 144, 171, 200]\n"
     ]
    }
   ],
   "source": [
    "lis = list(range(1, 11))  # 1부터 10까지의 숫자를 포함하는 리스트\n",
    "def odd(x):\n",
    "    return x % 2 == 1  # 홀수인지 확인하는 함수\n",
    "def even(x):\n",
    "    return x % 2 == 0  # 짝수인지 확인하는 함수\n",
    "def add(x):\n",
    "    return x +10 # 10을 더하는 함수\n",
    "def mul(x):\n",
    "    return x * 10 # 10을 곱하는 함수    \n",
    "def addmul(x):\n",
    "    return (x + 10)*x # 각 요소에 10을 더한 후 곱함\n",
    "print(list(filter(odd, lis)))  # 홀수만 필터링\n",
    "print(list(filter(even, lis)))  # 짝수만 필터링\n",
    "print(list(map(add, lis)))  # 각 요소에 10을 더함\n",
    "print(list(map(mul, lis)))  # 각 요소에 10을 곱함\n",
    "print(list(map(addmul, lis)))  # 각 요소에 10을 더한 후 곱함\n"
   ]
  },
  {
   "cell_type": "code",
   "execution_count": 2,
   "id": "8b7838b6",
   "metadata": {},
   "outputs": [
    {
     "name": "stdout",
     "output_type": "stream",
     "text": [
      "5\n",
      "o\n",
      "104 101 108 108 111\n"
     ]
    }
   ],
   "source": [
    "#max\n",
    "print(max([1,2,3,4,5]))  # 최대값\n",
    "print(max(\"hello\"))  # 아스키 코드로 표현했을 때 문자열에서 최대값 (알파벳 순서)\n",
    "print(ord('h'), ord('e'), ord('l'), ord('l'), ord('o'))  # 각 문자에 대한 아스키 코드 값 중 최대값"
   ]
  },
  {
   "cell_type": "code",
   "execution_count": 3,
   "id": "4ca9a95f",
   "metadata": {},
   "outputs": [
    {
     "name": "stdout",
     "output_type": "stream",
     "text": [
      "1\n",
      "e\n",
      "104 101 108 108 111\n"
     ]
    }
   ],
   "source": [
    "#min\n",
    "print(min([1,2,3,4,5]))  # 최대값\n",
    "print(min(\"hello\"))  # 아스키 코드로 표현했을 때 문자열에서 최대값 (알파벳 순서)\n",
    "print(ord('h'), ord('e'), ord('l'), ord('l'), ord('o'))  # 각 문자에 대한 아스키 코드 값 중 최대값"
   ]
  },
  {
   "cell_type": "code",
   "execution_count": 4,
   "id": "203dee3b",
   "metadata": {},
   "outputs": [
    {
     "name": "stdout",
     "output_type": "stream",
     "text": [
      "256\n",
      "65536\n",
      "4294967296\n"
     ]
    }
   ],
   "source": [
    "#pow\n",
    "print(pow(2, 8))  # 2의 8제곱\n",
    "print(pow(2, 16))  # 2의 16제곱\n",
    "print(pow(2, 32))  # 2의 32제곱\n"
   ]
  },
  {
   "cell_type": "code",
   "execution_count": 5,
   "id": "79f54117",
   "metadata": {},
   "outputs": [
    {
     "name": "stdout",
     "output_type": "stream",
     "text": [
      "3\n",
      "3.1\n",
      "3.14\n",
      "2.718\n"
     ]
    }
   ],
   "source": [
    "#round\n",
    "print(round(3.14159))\n",
    "print(round(3.14159, 1))\n",
    "print(round(3.14159, 2))  # 소수점 둘째 자리까지 반올림\n",
    "print(round(2.71828, 3))  # 소수점 셋째 자리까지 반올림"
   ]
  },
  {
   "cell_type": "code",
   "execution_count": 8,
   "id": "820184ec",
   "metadata": {},
   "outputs": [
    {
     "name": "stdout",
     "output_type": "stream",
     "text": [
      "3\n"
     ]
    }
   ],
   "source": [
    "#floor *내림\n",
    "import math\n",
    "print(math.floor(3.14159))\n"
   ]
  },
  {
   "cell_type": "code",
   "execution_count": 9,
   "id": "860b66e3",
   "metadata": {},
   "outputs": [
    {
     "name": "stdout",
     "output_type": "stream",
     "text": [
      "3.141592\n",
      "3.1\n",
      "3.14\n",
      "3.142\n"
     ]
    }
   ],
   "source": [
    "\n",
    "pi = 3.141592\n",
    "print(pi)\n",
    "print(f\"{pi:.1f}\")  # 소수점 첫째 자리까지 출력\n",
    "print(f\"{pi:.2f}\")  # 소수점 둘째 자리까지 출력\n",
    "print(f\"{pi:.3f}\")  # 소수점 셋째 자리까지 출력"
   ]
  },
  {
   "cell_type": "code",
   "execution_count": 12,
   "id": "ff6597d5",
   "metadata": {},
   "outputs": [
    {
     "name": "stdout",
     "output_type": "stream",
     "text": [
      "[0, 2, 4, 6, 8]\n",
      "[0, 1, 2, 3, 4, 5, 6, 7, 8, 9]\n",
      "[10, 9, 8, 7, 6, 5, 4, 3, 2, 1]\n"
     ]
    }
   ],
   "source": [
    "range(0,10,1) #range(10) 과 동일\n",
    "print(list(range(0,10,2)))\n",
    "print(list(range(0,10,1)))\n",
    "print(list(range(10,0,-1)))"
   ]
  },
  {
   "cell_type": "code",
   "execution_count": 13,
   "id": "2a8f91c1",
   "metadata": {},
   "outputs": [
    {
     "name": "stdout",
     "output_type": "stream",
     "text": [
      "[3, 1, 4, 2, 5, 8, 6, 7, 9, 0]\n",
      "[0, 1, 2, 3, 4, 5, 6, 7, 8, 9]\n",
      "[9, 8, 7, 6, 5, 4, 3, 2, 1, 0]\n"
     ]
    }
   ],
   "source": [
    "#sorted(iterable) *정렬된 리스트로 리턴\n",
    "s0 = [3,1,4,2,5,8,6,7,9,0]\n",
    "s1 = sorted(s0)  # 오름차순 정렬\n",
    "s2 = sorted(s0, reverse=True)  # 내림차순 정렬\n",
    "print(s0)\n",
    "print(s1)  # 오름차순 정렬된 리스트\n",
    "print(s2)  # 내림차순 정렬된 리스트\n"
   ]
  },
  {
   "cell_type": "code",
   "execution_count": 14,
   "id": "0c5b55e0",
   "metadata": {},
   "outputs": [
    {
     "name": "stdout",
     "output_type": "stream",
     "text": [
      "23 <class 'int'>\n",
      "23 <class 'str'>\n",
      "23 <class 'int'>\n"
     ]
    }
   ],
   "source": [
    "num = 23\n",
    "st = str(num)  # 숫자를 문자열로 변환\n",
    "print(num, type(num))\n",
    "print(st, type(st))  # 문자열로 변환된 num과 그 타입 출력\n",
    "num2 = int(st)  # 문자열을 다시 숫자로 변환\n",
    "print(num2, type(num2))  # 변환된 num2와 그 타입 출력"
   ]
  },
  {
   "cell_type": "code",
   "execution_count": 22,
   "id": "75087db1",
   "metadata": {},
   "outputs": [
    {
     "name": "stdout",
     "output_type": "stream",
     "text": [
      "45\n",
      "55\n",
      "2550\n"
     ]
    }
   ],
   "source": [
    "s3 = [3,1,4,2,5,8,6,7,9,0]\n",
    "print(sum(s3))  # 리스트의 합계\n",
    "print(sum(list(range(1,11))))\n",
    "print(sum(list(range(0,101,2))))"
   ]
  },
  {
   "cell_type": "code",
   "execution_count": 25,
   "id": "71186b29",
   "metadata": {},
   "outputs": [
    {
     "name": "stdout",
     "output_type": "stream",
     "text": [
      " C ����̺��� �������� �̸��� �����ϴ�.\n",
      " ���� �Ϸ� ��ȣ: CE6B-3D38\n",
      "\n",
      " c:\\BSW ���͸�\n",
      "\n",
      "[.]                  [.ipynb_checkpoints] myserver.bat\n",
      "py01.ipynb           test.txt             \n",
      "               3�� ����              21,336 ����Ʈ\n",
      "               2�� ���͸�  12,698,775,552 ����Ʈ ����\n"
     ]
    }
   ],
   "source": [
    "!dir/w"
   ]
  },
  {
   "cell_type": "code",
   "execution_count": 42,
   "id": "545f9785",
   "metadata": {},
   "outputs": [
    {
     "name": "stdout",
     "output_type": "stream",
     "text": [
      "\n",
      "\n"
     ]
    }
   ],
   "source": [
    "#open으로 파일 읽기\n",
    "#f = open(\"test.txt\", \"w\")  # 파일을 쓰기 모드로 열기 , // w 쓰기모드 , r 읽기모드 , a 추가모드\n",
    "f = open(\"test.txt\", \"r\",encoding=\"utf-8\")\n",
    "#contents = f.read()\n",
    "contents = f.readline()\n",
    "print(contents)  # 파일의 내용을 출력\n",
    "f.close()  # 파일을 닫음 //open과 close는 쌍으로 사용해야 함"
   ]
  },
  {
   "cell_type": "code",
   "execution_count": 35,
   "id": "32f62b3e",
   "metadata": {},
   "outputs": [
    {
     "name": "stdout",
     "output_type": "stream",
     "text": [
      "파일에 내용이 작성되었습니다.\n"
     ]
    }
   ],
   "source": [
    "#open 으로 파일 쓰기\n",
    "#f = open(\"test.txt\", \"w\")  # 파일을 쓰기 모드로 열기 , // w 쓰기모드 , r 읽기모드 , a 추가모드\n",
    "f = open(\"test.txt\", \"w\", encoding=\"utf-8\") #파일열기 (쓰기 모드)\n",
    "f.write(\"제가 프로그래밍으로 내용 작성 하였습니다.\")  # 파일에 내용 쓰기\n",
    "print(\"파일에 내용이 작성되었습니다.\")  # 파일에 내용 쓰기 확인\n",
    "f.close() #파일 닫기\n"
   ]
  },
  {
   "cell_type": "code",
   "execution_count": 38,
   "id": "724f36af",
   "metadata": {},
   "outputs": [
    {
     "name": "stdout",
     "output_type": "stream",
     "text": [
      "파일에 내용이 작성되었습니다.\n"
     ]
    }
   ],
   "source": [
    "#open으로 내용 추가\n",
    "#f = open(\"test.txt\", \"w\")  # 파일을 쓰기 모드로 열기 , // w 쓰기모드 , r 읽기모드 , a 추가모드\n",
    "f = open(\"test.txt\", \"a\", encoding=\"utf-8\") #파일열기 (쓰기 모드)\n",
    "f.write(\"\\n새로운 줄 작성.\")  # 파일에 내용 쓰기\n",
    "print(\"파일에 내용이 작성되었습니다.\")  # 파일에 내용 쓰기 확인\n",
    "f.close() #파일 닫기\n"
   ]
  },
  {
   "cell_type": "code",
   "execution_count": null,
   "id": "649743bd",
   "metadata": {},
   "outputs": [],
   "source": [
    "f = open(\"숫자놀이.txt\", \"w\", encoding=\"utf-8\") #파일열기 (쓰기 모드)\n",
    "num = range(1, 101)  # 1부터 100까지의 숫자\n",
    "f.writelines([str(n) + '\\n' for n in num])  # 각 숫자를 문자열로 변환하고 줄바꿈 추가\n",
    "with open(\"숫자놀이.txt\", \"w\", encoding=\"utf-8\") as f:\n",
    "    for n in range(1, 101):\n",
    "        if n % 3 == 0 and n % 5 == 0:\n",
    "            f.write(\"오예\\n\")\n",
    "        elif n % 3 == 0:\n",
    "            f.write(\"짝\\n\")\n",
    "        elif n % 5 == 0:\n",
    "            f.write(\"오\\n\")\n",
    "        else:\n",
    "            f.write(f\"{n}\\n\")\n"
   ]
  },
  {
   "cell_type": "code",
   "execution_count": 72,
   "id": "64246f7c",
   "metadata": {},
   "outputs": [
    {
     "name": "stdout",
     "output_type": "stream",
     "text": [
      "C\n",
      "F\n",
      "F\n",
      "F\n",
      "B\n",
      "C\n",
      "A\n",
      "C\n"
     ]
    }
   ],
   "source": [
    "# 성적표 파일에 점수 저장 및 등급 출력\n",
    "f = open(\"성적표.txt\", \"a\", encoding=\"utf-8\") #파일열기 (쓰기 모드)\n",
    "scores = input(\"성적을 ,로 구분해서 입력하세요: \")  # 예: 95,82,77,60,45\n",
    "score_list = [int(s.strip()) for s in scores.split(\",\")]\n",
    "f.write(\"\\n\".join([str(s) for s in score_list]) + \"\\n\")\n",
    "for i in score_list:\n",
    "    if i >= 90:\n",
    "        print(\"A\")\n",
    "    elif i >= 80:\n",
    "        print(\"B\")\n",
    "    elif i >= 70:\n",
    "        print(\"C\")\n",
    "    elif i >= 60:\n",
    "        print(\"D\")\n",
    "    else:\n",
    "        print(\"F\")\n",
    "\n",
    "f.close()  # 파일을 닫음\n"
   ]
  },
  {
   "cell_type": "code",
   "execution_count": null,
   "id": "2c3df252",
   "metadata": {},
   "outputs": [
    {
     "name": "stdout",
     "output_type": "stream",
     "text": [
      "성적표.txt 파일에 점수가 저장되었습니다.\n"
     ]
    }
   ],
   "source": [
    "#if elif else 조건 실습, with open 으로 파일 쓰기\n",
    "students= [90,95,80,30,72,69]\n",
    "\n",
    "with open(\"성적표.txt\", \"a\" , encoding=\"utf-8\") as f:\n",
    "    for i in students:\n",
    "        if i >= 90:\n",
    "            G = \"A\"\n",
    "        elif i >= 80:\n",
    "            G = \"B\"\n",
    "        elif i >= 70:\n",
    "            G = \"C\"\n",
    "        elif i >= 60:\n",
    "            G = \"D\"\n",
    "        else:\n",
    "            G = \"F\"\n",
    "        f.write(f\"점수 : {i} , 학점 : {G} \\n\")\n",
    "print(f\"성적표.txt 파일에 점수가 저장되었습니다.\")  # 파일에 내용 쓰기 확인"
   ]
  },
  {
   "cell_type": "code",
   "execution_count": null,
   "id": "f647923d",
   "metadata": {},
   "outputs": [
    {
     "name": "stdout",
     "output_type": "stream",
     "text": [
      "오류 발생: 점수는 0에서 100 사이여야 합니다.\n",
      "성적표.txt 파일에 비정상 저장.\n"
     ]
    }
   ],
   "source": [
    "#if 조건만 실습 , 예외처리\n",
    "students= [90,95,110,30,72,69]\n",
    "f = open(\"성적표.txt\", \"w\", encoding=\"utf-8\") #파일열기 (쓰기 모드)\n",
    "try:\n",
    "    for i in students:\n",
    "        if i > 100 or i <0:\n",
    "            f.write(f\"에러발생 중단\")\n",
    "            raise ValueError(\"점수는 0에서 100 사이여야 합니다.\")\n",
    "        if i >= 90 and i <=100:\n",
    "            G = \"A\"\n",
    "        if i >= 80 and i <90:\n",
    "            G = \"B\"\n",
    "        if i >= 70 and i <80:\n",
    "            G = \"C\"\n",
    "        if i >= 60 and i <70:\n",
    "            G = \"D\"\n",
    "        else:\n",
    "            G = \"F\"\n",
    "        f.write(f\"점수 : {i} , 학점 : {G} \\n\")\n",
    "    print(f\"성적표.txt 파일에 점수가 성공적으로 저장되었습니다.\")\n",
    "except Exception as e:\n",
    "    print(f\"오류 발생: {e}\")\n",
    "    print(f\"성적표.txt 파일에 비정상 저장.\")\n",
    "finally:\n",
    "    f.close()  # 파일을 닫음\n"
   ]
  },
  {
   "cell_type": "markdown",
   "id": "1c8a8a2e",
   "metadata": {},
   "source": [
    "## 표준 라이브러리"
   ]
  },
  {
   "cell_type": "code",
   "execution_count": 130,
   "id": "a3a860f2",
   "metadata": {},
   "outputs": [
    {
     "name": "stdout",
     "output_type": "stream",
     "text": [
      "2025-01-22와 2025-08-14의 차이는 204일입니다.\n",
      "========================================\n",
      "전체 수업기간 :  204 일\n",
      "남은 수업기간 :  37 일\n",
      "지난 수업기간 :  167 일\n"
     ]
    }
   ],
   "source": [
    "# datetime 모듈\n",
    "import datetime\n",
    "day1 = datetime.date(2025, 1, 22)  # 날짜 객체 생성\n",
    "day2 = datetime.date(2025, 8, 14)  # 또 다른 날짜 객체 생성\n",
    "diff = day2 - day1  # 날짜 차이 계산\n",
    "diff2 = day2 - datetime.date.today()  # 오늘 날짜와 day2의 차이 계산\n",
    "#diff2 = day2 - datetime.now().date //예전방식\n",
    "print(f\"{day1}와 {day2}의 차이는 {diff.days}일입니다.\")  # 날짜 차이 출력\n",
    "print(\"=\"*40)\n",
    "print(\"전체 수업기간 : \", diff.days, \"일\")\n",
    "print(\"남은 수업기간 : \", diff2.days, \"일\")\n",
    "print(\"지난 수업기간 : \", diff.days - diff2.days, \"일\")\n"
   ]
  },
  {
   "cell_type": "code",
   "execution_count": 131,
   "id": "a4b9ba5f",
   "metadata": {},
   "outputs": [
    {
     "name": "stdout",
     "output_type": "stream",
     "text": [
      "1995-01-10은 화요일입니다.\n"
     ]
    }
   ],
   "source": [
    "#요일 확인\n",
    "days = [\"월\", \"화\", \"수\", \"목\", \"금\", \"토\", \"일\"]\n",
    "day = datetime.date(1995,1,10)\n",
    "print(f\"{day}은 {days[day.weekday()]}요일입니다.\")  # 요일 출력"
   ]
  },
  {
   "cell_type": "code",
   "execution_count": 132,
   "id": "bdd77218",
   "metadata": {},
   "outputs": [
    {
     "name": "stdout",
     "output_type": "stream",
     "text": [
      "1751957396.4096937\n"
     ]
    }
   ],
   "source": [
    "#time\n",
    "import time\n",
    "print(time.time())  # 현재 시간을 초 단위로 출력\n"
   ]
  },
  {
   "cell_type": "code",
   "execution_count": 133,
   "id": "3317f367",
   "metadata": {},
   "outputs": [
    {
     "name": "stdout",
     "output_type": "stream",
     "text": [
      "time.struct_time(tm_year=2025, tm_mon=7, tm_mday=8, tm_hour=15, tm_min=49, tm_sec=56, tm_wday=1, tm_yday=189, tm_isdst=0)\n",
      "2025\n"
     ]
    }
   ],
   "source": [
    "#time.localtime()  # 현재 시간을 로컬 시간으로 변환\n",
    "tt= time.localtime(time.time())  # 현재 시간을 로컬 시간으로 변환\n",
    "print(tt)\n",
    "print(tt.tm_year)"
   ]
  },
  {
   "cell_type": "code",
   "execution_count": 134,
   "id": "fa23feee",
   "metadata": {},
   "outputs": [
    {
     "name": "stdout",
     "output_type": "stream",
     "text": [
      "Tue Jul  8 15:49:56 2025\n"
     ]
    }
   ],
   "source": [
    "#time.asctime()  # 현재 시간을 문자열로 변환\n",
    "print(time.asctime(tt))  # 로컬 시간을 문자열로 변환하여 출력"
   ]
  },
  {
   "cell_type": "code",
   "execution_count": 135,
   "id": "7465acd9",
   "metadata": {},
   "outputs": [
    {
     "name": "stdout",
     "output_type": "stream",
     "text": [
      "Tue Jul  8 15:49:56 2025\n"
     ]
    }
   ],
   "source": [
    "#time.ctime()  # 현재 시간을 초 단위로 반환\n",
    "print(time.ctime())  # 현재 시간을 초 단위로 반환"
   ]
  },
  {
   "cell_type": "code",
   "execution_count": 136,
   "id": "7074afc1",
   "metadata": {},
   "outputs": [
    {
     "name": "stdout",
     "output_type": "stream",
     "text": [
      "2025-07-08 // 15:49:56\n"
     ]
    }
   ],
   "source": [
    "#time.strftime()  # 현재 시간을 지정된 형식으로 출력\n",
    "print(time.strftime(\"%Y-%m-%d // %H:%M:%S\", tt))"
   ]
  },
  {
   "cell_type": "code",
   "execution_count": 124,
   "id": "c0e964ae",
   "metadata": {},
   "outputs": [
    {
     "name": "stdout",
     "output_type": "stream",
     "text": [
      "카운트:100\r"
     ]
    }
   ],
   "source": [
    "#time.sleep\n",
    "import time as t\n",
    "for i in range(100):\n",
    "    print(f\"카운트:{i+1}\" , end = \"\\r\")\n",
    "    t.sleep(1)"
   ]
  },
  {
   "cell_type": "code",
   "execution_count": 125,
   "id": "f8ad5057",
   "metadata": {},
   "outputs": [
    {
     "name": "stdout",
     "output_type": "stream",
     "text": [
      "100% | ■■■■■■■■■■■■■■■■■■■■■■■■■■■■■■■■■■■■■■■■■■■■■■■■■■■■■■■■■■■■■■■■■■■■■■■■■■■■■■■■■■■■■■■■■■■■■■■■■■■■\r"
     ]
    }
   ],
   "source": [
    "import time as t\n",
    "str = '■'  # 진행 상태를 나타내는 문자열\n",
    "for i in range(101):\n",
    "    print(f\"{i:<3}% | {str*(i//1):<10}\", end=\"\\r\")\n",
    "    t.sleep(0.1)  # 0.1초 간격으로 출력\n"
   ]
  },
  {
   "cell_type": "code",
   "execution_count": 126,
   "id": "5b8205b6",
   "metadata": {},
   "outputs": [
    {
     "name": "stdout",
     "output_type": "stream",
     "text": [
      "3.141592653589793\n",
      "2.718281828459045\n",
      "20\n",
      "60\n"
     ]
    }
   ],
   "source": [
    "# math 모듈\n",
    "import math\n",
    "print(math.pi)  # 파이 값 출력\n",
    "print(math.e)  # 자연 상수 e 출력\n",
    "#gcd, lcm\n",
    "print(math.gcd(60, 100, 80))  # 최대 공약수\n",
    "print(math.lcm(12, 15))  # 최소 공배수"
   ]
  },
  {
   "cell_type": "code",
   "execution_count": 127,
   "id": "79f8617c",
   "metadata": {},
   "outputs": [
    {
     "name": "stdout",
     "output_type": "stream",
     "text": [
      "0.4976181102721655\n",
      "9\n"
     ]
    }
   ],
   "source": [
    "#random 모듈\n",
    "import random\n",
    "print(random.random())  # 1부터 10까지의 랜덤 정수\n",
    "print(random.randint(1,10))  # 1부터 10까지의 랜덤 정수"
   ]
  },
  {
   "cell_type": "code",
   "execution_count": 141,
   "id": "23b84eb2",
   "metadata": {},
   "outputs": [
    {
     "name": "stdout",
     "output_type": "stream",
     "text": [
      "[19, 26, 34, 35, 42, 43]\n"
     ]
    }
   ],
   "source": [
    "import random\n",
    "num = []\n",
    "ran = random.randint(1,45)\n",
    "for i in range(ran):\n",
    "    if i < 6:  # 6개의 숫자를 생성(0~5)\n",
    "        i = random.randint(1, 45)\n",
    "        if i not in num:  \n",
    "            num.append(i)\n",
    "print(sorted(num))  # 중복되지 않는 랜덤 숫자 리스트 출력\n",
    "\n",
    "\n",
    "\n"
   ]
  },
  {
   "cell_type": "markdown",
   "id": "89f988c9",
   "metadata": {},
   "source": [
    "## tools"
   ]
  },
  {
   "cell_type": "code",
   "execution_count": 138,
   "id": "276ae8b7",
   "metadata": {},
   "outputs": [
    {
     "name": "stdout",
     "output_type": "stream",
     "text": [
      "[('홍길동', '과자'), ('이순신', '사탕'), ('강감찬', '초콜릿')]\n",
      "[('홍길동', '과자'), ('이순신', '사탕'), ('강감찬', '초콜릿'), ('유관순', '칸초'), ('안중근', '칸초')]\n"
     ]
    }
   ],
   "source": [
    "import itertools\n",
    "students = ['홍길동', '이순신', '강감찬', '유관순', '안중근']\n",
    "snacks = ['과자', '사탕', '초콜릿']\n",
    "result = zip(students, snacks)  # 두 리스트를 묶어줌\n",
    "print(list(result))  # 결과를 리스트로 변환하여 출력\n",
    "result2 = itertools.zip_longest(students, snacks, fillvalue=\"칸초\")  # 두 리스트를 묶되, 길이가 다르면 \"칸초\"으로 채움\n",
    "print(list(result2))  # 결과를 리스트로 변환하여 출력\n"
   ]
  },
  {
   "cell_type": "code",
   "execution_count": 139,
   "id": "3bb73a1e",
   "metadata": {},
   "outputs": [
    {
     "name": "stdout",
     "output_type": "stream",
     "text": [
      "8145060\n"
     ]
    }
   ],
   "source": [
    "# itertools.comination\n",
    "# itertools.permutation\n",
    "import itertools\n",
    "lotto = itertools.combinations(range(1, 46), 6)  # 1부터 45까지의 숫자 중에서 6개를 선택하는 조합\n",
    "print(len(list(lotto)))  # 조합 결과를 리스트로 변환하여 출력"
   ]
  },
  {
   "cell_type": "code",
   "execution_count": null,
   "id": "a291871b",
   "metadata": {},
   "outputs": [],
   "source": [
    "# functiools.reduce\n"
   ]
  },
  {
   "cell_type": "markdown",
   "id": "f19cbf1b",
   "metadata": {},
   "source": [
    "## OS"
   ]
  },
  {
   "cell_type": "code",
   "execution_count": 149,
   "id": "c8afcc5c",
   "metadata": {},
   "outputs": [
    {
     "data": {
      "text/plain": [
       "['.ipynb_checkpoints',\n",
       " 'myserver.bat',\n",
       " 'py01.ipynb',\n",
       " 'test.txt',\n",
       " '성적표.txt',\n",
       " '숫자놀이.txt']"
      ]
     },
     "execution_count": 149,
     "metadata": {},
     "output_type": "execute_result"
    }
   ],
   "source": [
    "import os\n",
    "os.environ['PATH']  # 환경 변수 PATH 출력\n",
    "os.chdir(\"C:\\\\bsw\")  # 현재 작업 디렉토리를 \"c:\\BSW\"로 변경\n",
    "os.getcwd()  # 현재 작업 디렉토리 출력\n",
    "os.listdir()  # 현재 디렉토리의 파일 목록 출력"
   ]
  },
  {
   "cell_type": "code",
   "execution_count": 150,
   "id": "5ae2d644",
   "metadata": {},
   "outputs": [
    {
     "name": "stdout",
     "output_type": "stream",
     "text": [
      "test.txt\n",
      "성적표.txt\n",
      "숫자놀이.txt\n"
     ]
    }
   ],
   "source": [
    "import glob\n",
    "for file in glob.glob(\"*.txt\"):  # 현재 디렉토리의 모든 .txt 파일을 찾음\n",
    "    print(file)  # 각 파일 이름을 출력"
   ]
  },
  {
   "cell_type": "code",
   "execution_count": null,
   "id": "0a138be9",
   "metadata": {},
   "outputs": [],
   "source": [
    "#import shutil #파일복사, 이동, 삭제 등 기능"
   ]
  },
  {
   "cell_type": "code",
   "execution_count": 154,
   "id": "69f1710f",
   "metadata": {},
   "outputs": [
    {
     "data": {
      "text/plain": [
       "[{'name': '황예진',\n",
       "  'phone': '041-645-9896',\n",
       "  'address': '인천광역시 노원구 백제고분4길 242',\n",
       "  'email': 'imijeong@example.org'},\n",
       " {'name': '최성진',\n",
       "  'phone': '061-534-8827',\n",
       "  'address': '전라북도 청양군 반포대거리 140',\n",
       "  'email': 'agim@example.com'},\n",
       " {'name': '이광수',\n",
       "  'phone': '044-269-5146',\n",
       "  'address': '강원도 충주시 봉은사가 930-22 (하윤이안읍)',\n",
       "  'email': 'seungmin87@example.com'},\n",
       " {'name': '박준영',\n",
       "  'phone': '017-218-6103',\n",
       "  'address': '강원도 양주시 양재천거리 530-27 (서준김읍)',\n",
       "  'email': 'jihunjang@example.com'},\n",
       " {'name': '김경숙',\n",
       "  'phone': '042-459-6069',\n",
       "  'address': '부산광역시 서구 강남대길 547 (경숙김마을)',\n",
       "  'email': 'ugim@example.net'}]"
      ]
     },
     "execution_count": 154,
     "metadata": {},
     "output_type": "execute_result"
    }
   ],
   "source": [
    "from faker import Faker\n",
    "fake = Faker('ko_KR')  # 한국어로 Faker 객체 생성\n",
    "[{\"name\": fake.name(), \"phone\": fake.phone_number(), \"address\": fake.address(), \"email\": fake.email()} for _ in range(5)]  # 5개의 가짜 데이터 생성"
   ]
  },
  {
   "cell_type": "code",
   "execution_count": 152,
   "id": "f499bfae",
   "metadata": {},
   "outputs": [
    {
     "name": "stdout",
     "output_type": "stream",
     "text": [
      "Collecting faker\n",
      "  Downloading faker-37.4.0-py3-none-any.whl.metadata (15 kB)\n",
      "Collecting tzdata (from faker)\n",
      "  Downloading tzdata-2025.2-py2.py3-none-any.whl.metadata (1.4 kB)\n",
      "Downloading faker-37.4.0-py3-none-any.whl (1.9 MB)\n",
      "   ---------------------------------------- 0.0/1.9 MB ? eta -:--:--\n",
      "   ----- ---------------------------------- 0.3/1.9 MB ? eta -:--:--\n",
      "   ---------- ----------------------------- 0.5/1.9 MB 2.7 MB/s eta 0:00:01\n",
      "   ---------------- ----------------------- 0.8/1.9 MB 1.8 MB/s eta 0:00:01\n",
      "   ---------------- ----------------------- 0.8/1.9 MB 1.8 MB/s eta 0:00:01\n",
      "   --------------------- ------------------ 1.0/1.9 MB 1.0 MB/s eta 0:00:01\n",
      "   -------------------------- ------------- 1.3/1.9 MB 1.0 MB/s eta 0:00:01\n",
      "   -------------------------------- ------- 1.6/1.9 MB 1.1 MB/s eta 0:00:01\n",
      "   ---------------------------------------- 1.9/1.9 MB 1.1 MB/s eta 0:00:00\n",
      "Downloading tzdata-2025.2-py2.py3-none-any.whl (347 kB)\n",
      "Installing collected packages: tzdata, faker\n",
      "Successfully installed faker-37.4.0 tzdata-2025.2\n"
     ]
    },
    {
     "name": "stderr",
     "output_type": "stream",
     "text": [
      "\n",
      "[notice] A new release of pip is available: 25.0.1 -> 25.1.1\n",
      "[notice] To update, run: python.exe -m pip install --upgrade pip\n"
     ]
    }
   ],
   "source": [
    "!pip install faker"
   ]
  },
  {
   "cell_type": "code",
   "execution_count": null,
   "id": "3156d149",
   "metadata": {},
   "outputs": [],
   "source": []
  }
 ],
 "metadata": {
  "kernelspec": {
   "display_name": "Python 3",
   "language": "python",
   "name": "python3"
  },
  "language_info": {
   "codemirror_mode": {
    "name": "ipython",
    "version": 3
   },
   "file_extension": ".py",
   "mimetype": "text/x-python",
   "name": "python",
   "nbconvert_exporter": "python",
   "pygments_lexer": "ipython3",
   "version": "3.13.3"
  }
 },
 "nbformat": 4,
 "nbformat_minor": 5
}
