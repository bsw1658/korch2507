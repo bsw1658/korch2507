{
 "cells": [
  {
   "cell_type": "markdown",
   "id": "4c702243",
   "metadata": {},
   "source": [
    "# 라이브러리 응용"
   ]
  },
  {
   "cell_type": "code",
   "execution_count": 7,
   "id": "2608b41e",
   "metadata": {},
   "outputs": [],
   "source": [
    "# 쓰레드 제어 준비\n",
    "import time as t\n",
    "# 작업 5초\n",
    "def long_task():\n",
    "    for w in range(5):\n",
    "        print(f\"일하는 중...{w+1}\")\n",
    "        t.sleep(1)"
   ]
  },
  {
   "cell_type": "code",
   "execution_count": 8,
   "id": "a8f70e39",
   "metadata": {},
   "outputs": [
    {
     "name": "stdout",
     "output_type": "stream",
     "text": [
      "=====Start=====\n",
      "일하는 중...1\n",
      "일하는 중...2\n",
      "일하는 중...2\n",
      "일하는 중...3\n",
      "일하는 중...3\n",
      "일하는 중...4\n",
      "일하는 중...4\n",
      "일하는 중...5\n",
      "일하는 중...5\n",
      "일하는 중...1\n",
      "일하는 중...1\n",
      "일하는 중...2\n",
      "일하는 중...2\n"
     ]
    },
    {
     "ename": "KeyboardInterrupt",
     "evalue": "",
     "output_type": "error",
     "traceback": [
      "\u001b[31m---------------------------------------------------------------------------\u001b[39m",
      "\u001b[31mKeyboardInterrupt\u001b[39m                         Traceback (most recent call last)",
      "\u001b[36mCell\u001b[39m\u001b[36m \u001b[39m\u001b[32mIn[8]\u001b[39m\u001b[32m, line 6\u001b[39m\n\u001b[32m      4\u001b[39m \u001b[38;5;28mprint\u001b[39m(\u001b[33m\"\u001b[39m\u001b[33m=====Start=====\u001b[39m\u001b[33m\"\u001b[39m)\n\u001b[32m      5\u001b[39m \u001b[38;5;28;01mfor\u001b[39;00m n \u001b[38;5;129;01min\u001b[39;00m \u001b[38;5;28mrange\u001b[39m(\u001b[32m5\u001b[39m):\n\u001b[32m----> \u001b[39m\u001b[32m6\u001b[39m     \u001b[43mlong_task\u001b[49m\u001b[43m(\u001b[49m\u001b[43m)\u001b[49m\n\u001b[32m      7\u001b[39m \u001b[38;5;28mprint\u001b[39m(\u001b[33m\"\u001b[39m\u001b[33m=====끝=====\u001b[39m\u001b[33m\"\u001b[39m)\n\u001b[32m      8\u001b[39m \u001b[38;5;28mprint\u001b[39m(\u001b[33mf\u001b[39m\u001b[33m\"\u001b[39m\u001b[33m총 소요시간: \u001b[39m\u001b[38;5;132;01m{\u001b[39;00mt.time()\u001b[38;5;250m \u001b[39m-\u001b[38;5;250m \u001b[39mstart\u001b[38;5;132;01m:\u001b[39;00m\u001b[33m.2f\u001b[39m\u001b[38;5;132;01m}\u001b[39;00m\u001b[33m초\u001b[39m\u001b[33m\"\u001b[39m)\n",
      "\u001b[36mCell\u001b[39m\u001b[36m \u001b[39m\u001b[32mIn[7]\u001b[39m\u001b[32m, line 7\u001b[39m, in \u001b[36mlong_task\u001b[39m\u001b[34m()\u001b[39m\n\u001b[32m      5\u001b[39m \u001b[38;5;28;01mfor\u001b[39;00m w \u001b[38;5;129;01min\u001b[39;00m \u001b[38;5;28mrange\u001b[39m(\u001b[32m5\u001b[39m):\n\u001b[32m      6\u001b[39m     \u001b[38;5;28mprint\u001b[39m(\u001b[33mf\u001b[39m\u001b[33m\"\u001b[39m\u001b[33m일하는 중...\u001b[39m\u001b[38;5;132;01m{\u001b[39;00mw+\u001b[32m1\u001b[39m\u001b[38;5;132;01m}\u001b[39;00m\u001b[33m\"\u001b[39m)\n\u001b[32m----> \u001b[39m\u001b[32m7\u001b[39m     \u001b[43mt\u001b[49m\u001b[43m.\u001b[49m\u001b[43msleep\u001b[49m\u001b[43m(\u001b[49m\u001b[32;43m1\u001b[39;49m\u001b[43m)\u001b[49m\n",
      "\u001b[31mKeyboardInterrupt\u001b[39m: "
     ]
    }
   ],
   "source": [
    "# 일반적인 작업\n",
    "# 작업 5초 x 5회 = 25초(이론상)\n",
    "start = t.time()\n",
    "print(\"=====Start=====\")\n",
    "for n in range(5):\n",
    "    long_task()\n",
    "print(\"=====끝=====\")\n",
    "print(f\"총 소요시간: {t.time() - start:.2f}초\")"
   ]
  },
  {
   "cell_type": "code",
   "execution_count": null,
   "id": "9a9e704d",
   "metadata": {},
   "outputs": [
    {
     "name": "stdout",
     "output_type": "stream",
     "text": [
      "=====Start=====\n",
      "일하는 중...1\n",
      "일하는 중...1\n",
      "일하는 중...1\n",
      "일하는 중...1\n",
      "일하는 중...1\n",
      "일하는 중...2\n",
      "일하는 중...2\n",
      "일하는 중...2\n",
      "일하는 중...2\n",
      "일하는 중...2\n",
      "일하는 중...3\n",
      "일하는 중...3\n",
      "일하는 중...3\n",
      "일하는 중...3\n",
      "일하는 중...3\n",
      "일하는 중...4일하는 중...4\n",
      "\n",
      "일하는 중...4\n",
      "일하는 중...4\n",
      "일하는 중...4\n",
      "일하는 중...5일하는 중...5\n",
      "일하는 중...5\n",
      "일하는 중...5\n",
      "일하는 중...5\n",
      "\n",
      "=====끝=====\n",
      "총 소요시간: 5.01초\n"
     ]
    }
   ],
   "source": [
    "# 쓰레드를 사용함, 프로그램적으로 병렬처리\n",
    "import threading\n",
    "import time as t\n",
    "\n",
    "start = t.time()\n",
    "print(\"=====Start=====\")\n",
    "threads = []\n",
    "for n in range(5):\n",
    "    th = threading.Thread(target=long_task)\n",
    "    threads.append(th)\n",
    "\n",
    "for tr in threads:\n",
    "    tr.start() # 쓰레드 시작\n",
    "for tr in threads:\n",
    "    tr.join() # 쓰레드 종료될 때 까지 기다림 (= waiting)\n",
    "\n",
    "\n",
    "\n",
    "\n",
    "print(\"=====끝=====\")\n",
    "print(f\"총 소요시간: {t.time() - start:.2f}초\")"
   ]
  },
  {
   "cell_type": "code",
   "execution_count": null,
   "id": "bba7572e",
   "metadata": {},
   "outputs": [
    {
     "name": "stdout",
     "output_type": "stream",
     "text": [
      "=====Start=====\n",
      "=====끝=====\n",
      "총 소요시간: 0.06초\n"
     ]
    }
   ],
   "source": [
    "# multithreading 을 사용함, 물리적으로 cpu 코어를 활용하여 병렬처리\n",
    "import multiprocessing\n",
    "import time as t\n",
    "\n",
    "def long_task():\n",
    "    for w in range(5):\n",
    "        print(f\"일하는 중...{w+1}\")\n",
    "        t.sleep(1)\n",
    "\n",
    "if __name__ == \"__main__\":\n",
    "    start = t.time()\n",
    "    print(\"=====Start=====\")\n",
    "    processes = []\n",
    "    for n in range(5):\n",
    "        p= multiprocessing.Process(target=long_task)\n",
    "        processes.append(p)\n",
    "    for p in processes:\n",
    "        p.start() # 쓰레드 시작\n",
    "    for p in processes:\n",
    "        p.join() # 쓰레드 종료될 때 까지 기다림 (= waiting)\n",
    "    print(\"=====끝=====\")\n",
    "    print(f\"총 소요시간: {t.time() - start:.2f}초\")"
   ]
  },
  {
   "cell_type": "markdown",
   "id": "f2fa6ffc",
   "metadata": {},
   "source": [
    "## JSON"
   ]
  },
  {
   "cell_type": "code",
   "execution_count": null,
   "id": "f31956a6",
   "metadata": {},
   "outputs": [
    {
     "name": "stdout",
     "output_type": "stream",
     "text": [
      "<class 'dict'> {'name': 'BSW', 'age': 20, 'address': {'city': 'Seoul', 'street': 'gangnam'}}\n"
     ]
    }
   ],
   "source": [
    "test ={\n",
    "    \"name\" : \"BSW\" , \n",
    "    \"age\" : 20 ,\n",
    "    \"address\" : {\n",
    "        \"city\" : \"Seoul\",\n",
    "        \"street\" : \"gangnam\"\n",
    "    }\n",
    "}\n",
    "print(type(test),test)"
   ]
  },
  {
   "cell_type": "code",
   "execution_count": null,
   "id": "92019cc7",
   "metadata": {},
   "outputs": [
    {
     "name": "stdout",
     "output_type": "stream",
     "text": [
      "<class 'str'> {\"name\": \"BSW\", \"age\": 20, \"address\": {\"city\": \"Seoul\", \"street\": \"gangnam\"}}\n"
     ]
    }
   ],
   "source": [
    "import json\n",
    "# JSON으로 변환\n",
    "\n",
    "data = json.dumps(test) # JSON 문자열로 변환\n",
    "print(type(data), data)"
   ]
  },
  {
   "cell_type": "code",
   "execution_count": null,
   "id": "31ac7c87",
   "metadata": {},
   "outputs": [],
   "source": [
    "# 스마트카 데이터 json 파일 만들기\n",
    "import json\n",
    "import time\n",
    "import random\n",
    "\n",
    "def generate_smartcar_data():\n",
    "    return {\n",
    "        \"car_id\": random.randint(1, 100),\n",
    "        \"speed\": random.randint(0, 150), # km/h\n",
    "        \"fuel_level\": random.uniform(0, 100), # %\n",
    "        \"latitude\": round(random.uniform(-90.0, 90.0),6), # 위도\n",
    "        \"longitude\": round(random.uniform(-180.0, 180.0),3), # 경도\n",
    "        \"timestamp\": time.time() # 현재 시간\n",
    "    }\n",
    "\n",
    "with open(\"smartcar_data.json\", \"w\") as file:\n",
    "    for _ in range(100): # 100개의 데이터 생성\n",
    "        data = generate_smartcar_data()\n",
    "        json.dump(data, file)\n",
    "        file.write(\"\\n\") # 각 데이터는 한 줄에 저장\n",
    "        time.sleep(0.1) # 0.1초 간격으로 데이터 생성"
   ]
  },
  {
   "cell_type": "code",
   "execution_count": null,
   "id": "31059507",
   "metadata": {},
   "outputs": [
    {
     "data": {
      "text/plain": [
       "'C:\\\\bsw'"
      ]
     },
     "execution_count": 22,
     "metadata": {},
     "output_type": "execute_result"
    }
   ],
   "source": [
    "import os\n",
    "os.chdir(\"C:\\\\bsw\")  # 현재 작업 디렉토리를 \"c:\\BSW\"로 변경\n",
    "os.getcwd()  # 현재 작업 디렉토리 출력"
   ]
  },
  {
   "cell_type": "code",
   "execution_count": null,
   "id": "7807e368",
   "metadata": {},
   "outputs": [],
   "source": [
    "import json\n",
    "import time\n",
    "import random\n",
    "\n",
    "def generate_smartcar_data(num = 0):\n",
    "    return {\n",
    "        \"car_id\": num,\n",
    "        \"speed\": random.randint(0, 150),  # km/h\n",
    "        \"fuel_level\": round(random.uniform(0, 100), 2),  # %\n",
    "        \"latitude\": round(random.uniform(-90.0, 90.0), 6),  # 위도\n",
    "        \"longitude\": round(random.uniform(-180.0, 180.0), 3),  # 경도\n",
    "        \"timestamp\": time.time()  # 현재 시간\n",
    "    }\n",
    "\n",
    "data_list = []\n",
    "\n",
    "for _ in range(100):  # 100개의 데이터 생성\n",
    "    data = generate_smartcar_data(_)\n",
    "    data_list.append(data)\n",
    "    time.sleep(0.1)  # 0.1초 간격\n",
    "\n",
    "with open(\"smartcar_data.json\", \"w\") as file:\n",
    "    json.dump(data_list, file, indent=2)  # 리스트 전체를 한 번에 저장"
   ]
  },
  {
   "cell_type": "code",
   "execution_count": null,
   "id": "a1156d68",
   "metadata": {},
   "outputs": [
    {
     "name": "stdout",
     "output_type": "stream",
     "text": [
      "스마트카 데이터가 smartcar_data.json 파일에 저장되었습니다.\n"
     ]
    }
   ],
   "source": [
    "import json\n",
    "import time\n",
    "import random\n",
    "\n",
    "def generate_smartcar_data(num = 0 ):\n",
    "    return {\n",
    "        \"car_id\": num,\n",
    "        \"speed\": random.randint(0, 150),  # km/h\n",
    "        \"fuel_level\": round(random.uniform(0, 100), 2),  # %\n",
    "        \"latitude\": round(random.uniform(-90.0, 90.0), 6),  # 위도\n",
    "        \"longitude\": round(random.uniform(-180.0, 180.0), 3),  # 경도\n",
    "        \"timestamp\": time.time()  # 현재 시간\n",
    "    }\n",
    "\n",
    "with open(\"smartcar_data.json\", \"w\") as file:\n",
    "    data_list = [ generate_smartcar_data(_) for _ in range(100) ]  # 100개의 데이터 생성\n",
    "    json.dump(data_list, file)  # 리스트 전체를 한 번에 저장\n",
    "    file.write(\"\\n\")  # 각 데이터는 한 줄에 저장\n",
    "    print(\"스마트카 데이터가 smartcar_data.json 파일에 저장되었습니다.\")"
   ]
  },
  {
   "cell_type": "code",
   "execution_count": null,
   "id": "eb0b836c",
   "metadata": {},
   "outputs": [
    {
     "name": "stdout",
     "output_type": "stream",
     "text": [
      "[{'car_id': 0, 'speed': 55, 'fuel_level': 11.92, 'latitude': 45.487169, 'longitude': 124.338, 'timestamp': 1752031315.745765}, {'car_id': 1, 'speed': 65, 'fuel_level': 51.57, 'latitude': 12.727313, 'longitude': 7.434, 'timestamp': 1752031315.8459637}, {'car_id': 2, 'speed': 11, 'fuel_level': 49.33, 'latitude': 67.148291, 'longitude': -30.967, 'timestamp': 1752031315.9461586}, {'car_id': 3, 'speed': 39, 'fuel_level': 99.29, 'latitude': -61.631534, 'longitude': 169.003, 'timestamp': 1752031316.0464127}, {'car_id': 4, 'speed': 37, 'fuel_level': 0.78, 'latitude': -52.104898, 'longitude': 79.468, 'timestamp': 1752031316.1466434}]\n"
     ]
    }
   ],
   "source": [
    "with open(\"smartcar_data.json\", \"r\") as file:\n",
    "    data = json.load(file)  # JSON 파일에서 데이터 읽기\n",
    "    print(data[:5])\n"
   ]
  },
  {
   "cell_type": "code",
   "execution_count": null,
   "id": "e22daf5f",
   "metadata": {},
   "outputs": [
    {
     "name": "stdout",
     "output_type": "stream",
     "text": [
      "{'car_id': 3, 'speed': 39, 'fuel_level': 99.29, 'latitude': -61.631534, 'longitude': 169.003, 'timestamp': 1752031316.0464127}\n"
     ]
    }
   ],
   "source": [
    "for da in data:\n",
    "    if da.get(\"car_id\") == 3:\n",
    "        print(da)\n"
   ]
  },
  {
   "cell_type": "code",
   "execution_count": null,
   "id": "32caef3e",
   "metadata": {},
   "outputs": [
    {
     "name": "stdout",
     "output_type": "stream",
     "text": [
      "3 ea molestias quasi exercitationem repellat qui ipsa sit aut\n"
     ]
    }
   ],
   "source": [
    "import requests \n",
    "url = \"https://jsonplaceholder.typicode.com/posts\"\n",
    "\n",
    "data = requests.get(url).json()\n",
    "for da in data:\n",
    "    if da.get(\"id\") == 3:\n",
    "        print(da[\"id\"], da[\"title\"])"
   ]
  },
  {
   "cell_type": "code",
   "execution_count": null,
   "id": "eb24da2f",
   "metadata": {},
   "outputs": [
    {
     "name": "stdout",
     "output_type": "stream",
     "text": [
      "{'car_id': 50, 'speed': 96, 'fuel_level': 81.5, 'latitude': 32.17226, 'longitude': -89.493, 'timestamp': 1752031320.761375}\n",
      "{'car_id': 51, 'speed': 78, 'fuel_level': 13.97, 'latitude': -77.865818, 'longitude': 37.378, 'timestamp': 1752031320.8615851}\n",
      "{'car_id': 52, 'speed': 76, 'fuel_level': 22.23, 'latitude': 58.752015, 'longitude': 73.593, 'timestamp': 1752031320.9627337}\n",
      "{'car_id': 53, 'speed': 148, 'fuel_level': 50.65, 'latitude': -72.313121, 'longitude': 123.555, 'timestamp': 1752031321.063038}\n",
      "{'car_id': 54, 'speed': 18, 'fuel_level': 58.74, 'latitude': 40.702636, 'longitude': -81.646, 'timestamp': 1752031321.1632457}\n",
      "{'car_id': 55, 'speed': 138, 'fuel_level': 7.12, 'latitude': 41.587045, 'longitude': -174.803, 'timestamp': 1752031321.2636342}\n",
      "{'car_id': 56, 'speed': 132, 'fuel_level': 69.17, 'latitude': -12.771659, 'longitude': -34.55, 'timestamp': 1752031321.3641596}\n",
      "{'car_id': 57, 'speed': 111, 'fuel_level': 42.78, 'latitude': -32.774892, 'longitude': 116.969, 'timestamp': 1752031321.4645696}\n",
      "{'car_id': 58, 'speed': 110, 'fuel_level': 64.27, 'latitude': -46.435429, 'longitude': -167.489, 'timestamp': 1752031321.5646973}\n",
      "{'car_id': 59, 'speed': 110, 'fuel_level': 80.53, 'latitude': -61.143155, 'longitude': -77.279, 'timestamp': 1752031321.665326}\n",
      "{'car_id': 60, 'speed': 27, 'fuel_level': 70.58, 'latitude': 46.904042, 'longitude': 13.852, 'timestamp': 1752031321.7655106}\n",
      "{'car_id': 61, 'speed': 140, 'fuel_level': 45.79, 'latitude': 77.66641, 'longitude': 31.664, 'timestamp': 1752031321.8658504}\n",
      "{'car_id': 62, 'speed': 33, 'fuel_level': 11.77, 'latitude': -3.959015, 'longitude': 35.76, 'timestamp': 1752031321.9662597}\n",
      "{'car_id': 63, 'speed': 5, 'fuel_level': 40.75, 'latitude': 9.382838, 'longitude': -62.805, 'timestamp': 1752031322.0667439}\n",
      "{'car_id': 64, 'speed': 96, 'fuel_level': 97.36, 'latitude': 71.964797, 'longitude': -78.363, 'timestamp': 1752031322.1672814}\n",
      "{'car_id': 65, 'speed': 15, 'fuel_level': 44.68, 'latitude': 19.791045, 'longitude': -54.642, 'timestamp': 1752031322.2675567}\n",
      "{'car_id': 66, 'speed': 49, 'fuel_level': 70.93, 'latitude': -42.691367, 'longitude': 8.755, 'timestamp': 1752031322.3680515}\n",
      "{'car_id': 67, 'speed': 68, 'fuel_level': 34.59, 'latitude': -10.302654, 'longitude': -147.043, 'timestamp': 1752031322.4684966}\n",
      "{'car_id': 68, 'speed': 49, 'fuel_level': 82.72, 'latitude': -61.375603, 'longitude': 171.091, 'timestamp': 1752031322.5691924}\n",
      "{'car_id': 69, 'speed': 120, 'fuel_level': 98.09, 'latitude': 35.995717, 'longitude': -10.622, 'timestamp': 1752031322.669438}\n",
      "{'car_id': 70, 'speed': 91, 'fuel_level': 56.72, 'latitude': 47.934524, 'longitude': -109.728, 'timestamp': 1752031322.7696927}\n"
     ]
    }
   ],
   "source": [
    "for da in data:\n",
    "    if da.get(\"car_id\") > 49 and da.get(\"car_id\") < 71:\n",
    "        print(da)\n"
   ]
  },
  {
   "cell_type": "code",
   "execution_count": null,
   "id": "36ee8131",
   "metadata": {},
   "outputs": [
    {
     "name": "stdout",
     "output_type": "stream",
     "text": [
      "dataa.txt 파일에 점수가 저장되었습니다.\n"
     ]
    }
   ],
   "source": [
    "with open(\"dataa.txt\", \"w\" , encoding=\"utf-8\") as f:\n",
    "    for da in data:\n",
    "        if da.get(\"car_id\") > 49 and da.get(\"car_id\") < 71:\n",
    "            f.write(f\"{da['car_id']}, {da['speed']}, {da['fuel_level']}, {da['latitude']}, {da['longitude']}, {da['timestamp']}\\n\")\n",
    "print(f\"dataa.txt 파일에 점수가 저장되었습니다.\")  # 파일에 내용 쓰기 확인"
   ]
  },
  {
   "cell_type": "code",
   "execution_count": null,
   "id": "60d574bf",
   "metadata": {},
   "outputs": [
    {
     "name": "stdout",
     "output_type": "stream",
     "text": [
      "3 ea molestias quasi exercitationem repellat qui ipsa sit aut\n"
     ]
    }
   ],
   "source": [
    "import requests \n",
    "import json\n",
    "url = \"https://jsonplaceholder.typicode.com/posts\"\n",
    "\n",
    "data = requests.get(url).json()\n",
    "for da in data:\n",
    "    if da.get(\"id\") == 3:\n",
    "        print(da[\"id\"], da[\"title\"])\n",
    "with open(\"dataa.txt\", \"w\" , encoding=\"utf-8\") as f:\n",
    "    json.dump(data, f, ensure_ascii=False)  # 파일에 JSON 데이터 저장"
   ]
  },
  {
   "cell_type": "code",
   "execution_count": null,
   "id": "af6c4261",
   "metadata": {},
   "outputs": [
    {
     "name": "stdout",
     "output_type": "stream",
     "text": [
      "시가총액 : 네이버페이 증권\n",
      "8 삼성전자우 50700\n",
      "18 카카오 59900\n",
      "21 HMM 24550\n",
      "22 한국전력 37300\n",
      "29 우리금융지주 25300\n",
      "36 기업은행 20250\n",
      "38 삼성중공업 17490\n",
      "39 카카오뱅크 30150\n",
      "40 KT 55800\n",
      "44 미래에셋증권 22100\n",
      "47 SK텔레콤 55300\n"
     ]
    }
   ],
   "source": [
    "import requests as req\n",
    "from bs4 import BeautifulSoup as bs\n",
    "\n",
    "url = \"https://finance.naver.com/sise/sise_market_sum.naver\"\n",
    "web = req.get(url)\n",
    "\n",
    "soup = bs(web.content, \"html.parser\")\n",
    "print(soup.title.text)\n",
    "tableline = soup.select(\".type_2 tr\")\n",
    "\n",
    "for t in tableline:\n",
    "    no = t.select_one(\".no\")\n",
    "    title = t.select_one(\".tltle\")\n",
    "    number = t.select_one(\".number\")\n",
    "    if (no or title or number):\n",
    "        if(int(number.text.replace(\",\",\"\")) < 60000):\n",
    "            print(no.text, title.text, int(number.text.replace(\",\",\"\")))\n"
   ]
  },
  {
   "cell_type": "code",
   "execution_count": null,
   "id": "8936df1c",
   "metadata": {},
   "outputs": [
    {
     "name": "stderr",
     "output_type": "stream",
     "text": [
      "\n",
      "[notice] A new release of pip is available: 25.0.1 -> 25.1.1\n",
      "[notice] To update, run: python.exe -m pip install --upgrade pip\n"
     ]
    }
   ],
   "source": [
    "!pip install -q -U google-genai"
   ]
  },
  {
   "cell_type": "code",
   "execution_count": null,
   "id": "5f253942",
   "metadata": {},
   "outputs": [
    {
     "name": "stdout",
     "output_type": "stream",
     "text": [
      "친절하게 설명해 드릴게요. 스마트 제조, 팩토리, 스마트팜에서 '1워드 M메모리'는 주로 센서, 액추에이터, 소형 엣지 장치 내 마이크로컨트롤러(MCU)에 탑재되는 작은 단위의 메모리를 의미해요.\n",
      "\n",
      "이 기술은 펌웨어, 센서 측정값, 제어 명령, 장비 운영 설정 등을 저장하는 데 사용됩니다. 이를 통해 로봇의 정밀 제어, 자동화 설비의 실시간 데이터 처리, 스마트팜 환경 센서의 정보 기록 등이 가능해져요. 시스템의 효율적인 작동과 즉각적인 반응에 필수적인 기술입니다.\n"
     ]
    }
   ],
   "source": [
    "from google import genai\n",
    "\n",
    "def aiai(text):\n",
    "    client = genai.Client(api_key=\"AI1658zaSyCPOxWrh0TMVonqhRyL0_II7XZgW6Hgrx0\")\n",
    "\n",
    "    response = client.models.generate_content(\n",
    "        model=\"gemini-2.5-flash\", contents = text + \";단, 300자 이내로 서술형으로 친절하게 알려줘. 내용은 스마트제조, 스마트팩토리,스마트팜과 관련되고 사용되는 기술만 알려줘\"\n",
    "    )\n",
    "    print(response.text)\n",
    "aiai(\"1워드 M메모리에 대해서 설명해줘.\")"
   ]
  },
  {
   "cell_type": "code",
   "execution_count": 21,
   "id": "4930a2de",
   "metadata": {},
   "outputs": [
    {
     "name": "stdout",
     "output_type": "stream",
     "text": [
      "Requirement already satisfied: qrcode in c:\\users\\user\\appdata\\local\\programs\\python\\python313\\lib\\site-packages (8.2)\n",
      "Requirement already satisfied: colorama in c:\\users\\user\\appdata\\local\\programs\\python\\python313\\lib\\site-packages (from qrcode) (0.4.6)\n"
     ]
    },
    {
     "name": "stderr",
     "output_type": "stream",
     "text": [
      "\n",
      "[notice] A new release of pip is available: 25.0.1 -> 25.1.1\n",
      "[notice] To update, run: python.exe -m pip install --upgrade pip\n"
     ]
    }
   ],
   "source": [
    "!pip install qrcode"
   ]
  },
  {
   "cell_type": "code",
   "execution_count": 22,
   "id": "4387ba1d",
   "metadata": {},
   "outputs": [
    {
     "name": "stdout",
     "output_type": "stream",
     "text": [
      "Requirement already satisfied: Pillow in c:\\users\\user\\appdata\\local\\programs\\python\\python313\\lib\\site-packages (11.3.0)\n"
     ]
    },
    {
     "name": "stderr",
     "output_type": "stream",
     "text": [
      "\n",
      "[notice] A new release of pip is available: 25.0.1 -> 25.1.1\n",
      "[notice] To update, run: python.exe -m pip install --upgrade pip\n"
     ]
    }
   ],
   "source": [
    "!pip install Pillow"
   ]
  },
  {
   "cell_type": "code",
   "execution_count": 27,
   "id": "67d2f32d",
   "metadata": {},
   "outputs": [],
   "source": [
    "import qrcode\n",
    "\n",
    "def qrcode_maker(text, filename=\"./public/qr.png\"):\n",
    "    qr = qrcode.make(text)\n",
    "    qr.save(filename)\n",
    "    "
   ]
  },
  {
   "cell_type": "code",
   "execution_count": 28,
   "id": "14ba7339",
   "metadata": {},
   "outputs": [],
   "source": [
    "qrcode_maker(\"안녕하세요 테스트 중\")"
   ]
  },
  {
   "cell_type": "code",
   "execution_count": 1,
   "id": "b3f91632",
   "metadata": {},
   "outputs": [],
   "source": [
    "# 수업중"
   ]
  },
  {
   "cell_type": "code",
   "execution_count": null,
   "id": "7aaebcf0",
   "metadata": {},
   "outputs": [],
   "source": []
  }
 ],
 "metadata": {
  "kernelspec": {
   "display_name": "Python 3 (ipykernel)",
   "language": "python",
   "name": "python3"
  },
  "language_info": {
   "codemirror_mode": {
    "name": "ipython",
    "version": 3
   },
   "file_extension": ".py",
   "mimetype": "text/x-python",
   "name": "python",
   "nbconvert_exporter": "python",
   "pygments_lexer": "ipython3",
   "version": "3.13.3"
  }
 },
 "nbformat": 4,
 "nbformat_minor": 5
}
