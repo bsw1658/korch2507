{
 "cells": [
  {
   "cell_type": "markdown",
   "id": "7251901e",
   "metadata": {},
   "source": [
    "# 머신러닝 기초"
   ]
  },
  {
   "cell_type": "code",
   "execution_count": null,
   "id": "c80426f8",
   "metadata": {},
   "outputs": [
    {
     "name": "stdout",
     "output_type": "stream",
     "text": [
      "Collecting scikit-learn\n",
      "  Downloading scikit_learn-1.7.0-cp313-cp313-win_amd64.whl.metadata (14 kB)\n",
      "Requirement already satisfied: numpy>=1.22.0 in c:\\users\\user\\appdata\\local\\programs\\python\\python313\\lib\\site-packages (from scikit-learn) (2.3.1)\n",
      "Collecting scipy>=1.8.0 (from scikit-learn)\n",
      "  Downloading scipy-1.16.0-cp313-cp313-win_amd64.whl.metadata (60 kB)\n",
      "Collecting joblib>=1.2.0 (from scikit-learn)\n",
      "  Downloading joblib-1.5.1-py3-none-any.whl.metadata (5.6 kB)\n",
      "Collecting threadpoolctl>=3.1.0 (from scikit-learn)\n",
      "  Downloading threadpoolctl-3.6.0-py3-none-any.whl.metadata (13 kB)\n",
      "Downloading scikit_learn-1.7.0-cp313-cp313-win_amd64.whl (10.7 MB)\n",
      "   ---------------------------------------- 0.0/10.7 MB ? eta -:--:--\n",
      "   ------- -------------------------------- 2.1/10.7 MB 11.3 MB/s eta 0:00:01\n",
      "   --------------- ------------------------ 4.2/10.7 MB 9.8 MB/s eta 0:00:01\n",
      "   ------------------------ --------------- 6.6/10.7 MB 10.5 MB/s eta 0:00:01\n",
      "   --------------------------------- ------ 8.9/10.7 MB 10.8 MB/s eta 0:00:01\n",
      "   ---------------------------------------  10.5/10.7 MB 10.9 MB/s eta 0:00:01\n",
      "   ---------------------------------------- 10.7/10.7 MB 8.6 MB/s eta 0:00:00\n",
      "Downloading joblib-1.5.1-py3-none-any.whl (307 kB)\n",
      "Downloading scipy-1.16.0-cp313-cp313-win_amd64.whl (38.4 MB)\n",
      "   ---------------------------------------- 0.0/38.4 MB ? eta -:--:--\n",
      "   -- ------------------------------------- 2.4/38.4 MB 11.7 MB/s eta 0:00:04\n",
      "   --- ------------------------------------ 3.7/38.4 MB 9.2 MB/s eta 0:00:04\n",
      "   ------ --------------------------------- 6.0/38.4 MB 10.1 MB/s eta 0:00:04\n",
      "   --------- ------------------------------ 8.7/38.4 MB 10.5 MB/s eta 0:00:03\n",
      "   ----------- ---------------------------- 11.0/38.4 MB 10.8 MB/s eta 0:00:03\n",
      "   -------------- ------------------------- 13.6/38.4 MB 11.0 MB/s eta 0:00:03\n",
      "   ---------------- ----------------------- 16.3/38.4 MB 11.1 MB/s eta 0:00:02\n",
      "   ------------------- -------------------- 18.6/38.4 MB 11.2 MB/s eta 0:00:02\n",
      "   --------------------- ------------------ 21.0/38.4 MB 11.2 MB/s eta 0:00:02\n",
      "   ---------------------- ----------------- 22.0/38.4 MB 10.4 MB/s eta 0:00:02\n",
      "   ------------------------- -------------- 24.4/38.4 MB 10.6 MB/s eta 0:00:02\n",
      "   ---------------------------- ----------- 27.0/38.4 MB 10.7 MB/s eta 0:00:02\n",
      "   ------------------------------ --------- 29.6/38.4 MB 10.8 MB/s eta 0:00:01\n",
      "   --------------------------------- ------ 32.0/38.4 MB 10.8 MB/s eta 0:00:01\n",
      "   ------------------------------------ --- 34.6/38.4 MB 10.9 MB/s eta 0:00:01\n",
      "   -------------------------------------- - 37.0/38.4 MB 10.9 MB/s eta 0:00:01\n",
      "   ---------------------------------------  38.3/38.4 MB 11.0 MB/s eta 0:00:01\n",
      "   ---------------------------------------  38.3/38.4 MB 11.0 MB/s eta 0:00:01\n",
      "   ---------------------------------------  38.3/38.4 MB 11.0 MB/s eta 0:00:01\n",
      "   ---------------------------------------  38.3/38.4 MB 11.0 MB/s eta 0:00:01\n",
      "   ---------------------------------------  38.3/38.4 MB 11.0 MB/s eta 0:00:01\n",
      "   ---------------------------------------  38.3/38.4 MB 11.0 MB/s eta 0:00:01\n",
      "   ---------------------------------------  38.3/38.4 MB 11.0 MB/s eta 0:00:01\n",
      "   ---------------------------------------- 38.4/38.4 MB 7.9 MB/s eta 0:00:00\n",
      "Downloading threadpoolctl-3.6.0-py3-none-any.whl (18 kB)\n",
      "Installing collected packages: threadpoolctl, scipy, joblib, scikit-learn\n",
      "Successfully installed joblib-1.5.1 scikit-learn-1.7.0 scipy-1.16.0 threadpoolctl-3.6.0\n"
     ]
    },
    {
     "name": "stderr",
     "output_type": "stream",
     "text": [
      "\n",
      "[notice] A new release of pip is available: 25.0.1 -> 25.1.1\n",
      "[notice] To update, run: python.exe -m pip install --upgrade pip\n"
     ]
    }
   ],
   "source": [
    "# !pip install scikit-learn\n",
    "# 모수적, 비모수적(KNN)"
   ]
  },
  {
   "cell_type": "code",
   "execution_count": 18,
   "id": "c518b9a6",
   "metadata": {},
   "outputs": [],
   "source": [
    "import pandas as pd\n",
    "from sklearn.model_selection import train_test_split\n",
    "# 1. 데이터 불러오기\n",
    "df = pd.read_csv(\"./iris.csv\")\n",
    "# df.head(10)\n",
    "# 2. 특성하고 타겟을 분리\n",
    "X = df.drop('Species', axis=1) #꽃받침, 길이, 넓이\n",
    "Y = df['Species']\n"
   ]
  },
  {
   "cell_type": "code",
   "execution_count": null,
   "id": "b49c9bae",
   "metadata": {},
   "outputs": [
    {
     "name": "stdout",
     "output_type": "stream",
     "text": [
      "정확도: 1.0\n",
      "리포트:               precision    recall  f1-score   support\n",
      "\n",
      "      setosa       1.00      1.00      1.00        10\n",
      "  versicolor       1.00      1.00      1.00         9\n",
      "   virginica       1.00      1.00      1.00        11\n",
      "\n",
      "    accuracy                           1.00        30\n",
      "   macro avg       1.00      1.00      1.00        30\n",
      "weighted avg       1.00      1.00      1.00        30\n",
      "\n",
      "예측 클래스: setosa\n"
     ]
    }
   ],
   "source": [
    "\n",
    "# 3. 훈련/테스트 데이터의 분할\n",
    "x_train, x_test, y_train, y_test = train_test_split(\n",
    "    X, Y, test_size=0.2, random_state=42\n",
    ")\n",
    "\n",
    "# 4. 모델학습 (KNN)\n",
    "from sklearn.neighbors import KNeighborsClassifier\n",
    "knn = KNeighborsClassifier(n_neighbors=3)\n",
    "knn.fit(x_train, y_train)\n",
    "\n",
    "# 5. 예측 및 평가\n",
    "from sklearn.metrics import accuracy_score , classification_report\n",
    "y_pred = knn.predict(x_test)\n",
    "x_test ,y_pred, y_test\n",
    "print(\"정확도:\", accuracy_score(y_test, y_pred))\n",
    "print(\"리포트:\", classification_report(y_test, y_pred))\n",
    "\n",
    "# 6. 새로운 데이터 예측\n",
    "import numpy as np\n",
    "import pandas as pd\n",
    "inputs = [5.1, 3.5, 1.4, 0.2]\n",
    "new_data = pd.DataFrame([inputs], columns=X.columns)\n",
    "pred_class = knn.predict(new_data)\n",
    "print(\"예측 클래스:\", pred_class[0])"
   ]
  },
  {
   "cell_type": "code",
   "execution_count": 28,
   "id": "e88b1388",
   "metadata": {},
   "outputs": [
    {
     "name": "stdout",
     "output_type": "stream",
     "text": [
      "정확도: 1.0\n",
      "리포트:               precision    recall  f1-score   support\n",
      "\n",
      "           0       1.00      1.00      1.00        10\n",
      "           1       1.00      1.00      1.00         9\n",
      "           2       1.00      1.00      1.00        11\n",
      "\n",
      "    accuracy                           1.00        30\n",
      "   macro avg       1.00      1.00      1.00        30\n",
      "weighted avg       1.00      1.00      1.00        30\n",
      "\n",
      "['setosa' 'versicolor' 'virginica']\n",
      "예측 클래스: setosa\n"
     ]
    }
   ],
   "source": [
    "import pandas as pd\n",
    "from sklearn.model_selection import train_test_split\n",
    "from sklearn.preprocessing import StandardScaler\n",
    "from sklearn.ensemble import RandomForestClassifier\n",
    "from sklearn.metrics import classification_report, accuracy_score\n",
    "\n",
    "# 1. 데이터를 사이킷런 에서 가져오기\n",
    "from sklearn.datasets import load_iris\n",
    "iris = load_iris()\n",
    "df = pd.DataFrame(iris.data, columns=iris.feature_names)\n",
    "df.sample(10)\n",
    "df['target'] = iris.target\n",
    "df\n",
    "\n",
    "# 2. 특성과 타겟분리\n",
    "X = df.drop('target', axis=1)\n",
    "Y = df['target']\n",
    "\n",
    "# 3. 훈련/테스트 데이터 분할\n",
    "x_train, x_test, y_train, y_test = train_test_split(\n",
    "    X, Y, test_size=0.2, random_state=42\n",
    ")\n",
    "\n",
    "# 4. 모델 학습\n",
    "model = RandomForestClassifier(n_estimators=100, random_state=42)\n",
    "model.fit(x_train, y_train)\n",
    "\n",
    "# 5. 예측/평가\n",
    "y_pred = model.predict(x_test)\n",
    "print(\"정확도:\", accuracy_score(y_test, y_pred))\n",
    "print(\"리포트:\", classification_report(y_test, y_pred))\n",
    "\n",
    "# 6. 새로운 데이터 예측\n",
    "import numpy as np\n",
    "import pandas as pd\n",
    "inputs = [5.1, 3.5, 1.4, 0.2]\n",
    "feature_names = ['petal length (cm)', 'petal width (cm)',\n",
    "                 'sepal length (cm)', 'sepal width (cm)']\n",
    "new_data = pd.DataFrame([inputs], columns=X.columns)\n",
    "pred_model = model.predict(new_data)\n",
    "print(iris.target_names)\n",
    "print(\"예측 클래스:\", pred_class[0])"
   ]
  },
  {
   "cell_type": "code",
   "execution_count": null,
   "id": "6941a13b",
   "metadata": {},
   "outputs": [],
   "source": []
  }
 ],
 "metadata": {
  "kernelspec": {
   "display_name": "Python 3 (ipykernel)",
   "language": "python",
   "name": "python3"
  },
  "language_info": {
   "codemirror_mode": {
    "name": "ipython",
    "version": 3
   },
   "file_extension": ".py",
   "mimetype": "text/x-python",
   "name": "python",
   "nbconvert_exporter": "python",
   "pygments_lexer": "ipython3",
   "version": "3.13.3"
  }
 },
 "nbformat": 4,
 "nbformat_minor": 5
}
