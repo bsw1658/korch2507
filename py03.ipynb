{
 "cells": [
  {
   "cell_type": "markdown",
   "id": "778d589a",
   "metadata": {},
   "source": [
    "# 넘파이 Numpy"
   ]
  },
  {
   "cell_type": "code",
   "execution_count": 4,
   "id": "625d0897",
   "metadata": {},
   "outputs": [],
   "source": [
    "import numpy as np\n",
    "data1 = [1,2,3,4,5]\n",
    "data2 = [1,2,3,4,5,6]\n"
   ]
  },
  {
   "cell_type": "code",
   "execution_count": 4,
   "id": "3870ff51",
   "metadata": {},
   "outputs": [
    {
     "data": {
      "text/plain": [
       "(array([1, 2, 3, 4, 5]), array([1, 2, 3, 4, 5, 6]))"
      ]
     },
     "execution_count": 4,
     "metadata": {},
     "output_type": "execute_result"
    }
   ],
   "source": [
    "arr1 = np.array(data1)\n",
    "arr2 = np.array(data2)\n",
    "\n",
    "arr1, arr2"
   ]
  },
  {
   "cell_type": "code",
   "execution_count": null,
   "id": "4aee9e0c",
   "metadata": {},
   "outputs": [
    {
     "data": {
      "text/plain": [
       "((5,), dtype('int64'))"
      ]
     },
     "execution_count": 6,
     "metadata": {},
     "output_type": "execute_result"
    }
   ],
   "source": [
    "arr1. shape , arr1.dtype # 모양, 타입 뽑아냄"
   ]
  },
  {
   "cell_type": "code",
   "execution_count": 7,
   "id": "64365fff",
   "metadata": {},
   "outputs": [
    {
     "data": {
      "text/plain": [
       "array([[1, 2, 3],\n",
       "       [4, 5, 6]])"
      ]
     },
     "execution_count": 7,
     "metadata": {},
     "output_type": "execute_result"
    }
   ],
   "source": [
    "arr3 = np.array([[1,2,3],[4,5,6]])\n",
    "arr3 "
   ]
  },
  {
   "cell_type": "code",
   "execution_count": 8,
   "id": "14a390f6",
   "metadata": {},
   "outputs": [
    {
     "data": {
      "text/plain": [
       "((2, 3), dtype('int64'))"
      ]
     },
     "execution_count": 8,
     "metadata": {},
     "output_type": "execute_result"
    }
   ],
   "source": [
    "arr3.shape , arr3.dtype"
   ]
  },
  {
   "cell_type": "code",
   "execution_count": 11,
   "id": "9cc9bc8f",
   "metadata": {},
   "outputs": [
    {
     "data": {
      "text/plain": [
       "(array([0., 0., 0., 0., 0., 0., 0., 0., 0., 0.]), (10,), dtype('float64'))"
      ]
     },
     "execution_count": 11,
     "metadata": {},
     "output_type": "execute_result"
    }
   ],
   "source": [
    "zz = np.zeros(10)\n",
    "zz, zz.shape , zz.dtype"
   ]
  },
  {
   "cell_type": "code",
   "execution_count": 13,
   "id": "d428a144",
   "metadata": {},
   "outputs": [
    {
     "data": {
      "text/plain": [
       "(array([[0., 0., 0., 0., 0.],\n",
       "        [0., 0., 0., 0., 0.],\n",
       "        [0., 0., 0., 0., 0.]]),\n",
       " (3, 5),\n",
       " dtype('float64'))"
      ]
     },
     "execution_count": 13,
     "metadata": {},
     "output_type": "execute_result"
    }
   ],
   "source": [
    "zzz = np.zeros((3,5))\n",
    "zzz, zzz.shape , zzz.dtype"
   ]
  },
  {
   "cell_type": "code",
   "execution_count": 14,
   "id": "859ac4e5",
   "metadata": {},
   "outputs": [
    {
     "data": {
      "text/plain": [
       "(array([1., 1., 1., 1., 1., 1., 1.]), (7,), dtype('float64'))"
      ]
     },
     "execution_count": 14,
     "metadata": {},
     "output_type": "execute_result"
    }
   ],
   "source": [
    "oo = np.ones(7)\n",
    "oo, oo.shape , oo.dtype"
   ]
  },
  {
   "cell_type": "code",
   "execution_count": 15,
   "id": "363e46ae",
   "metadata": {},
   "outputs": [
    {
     "data": {
      "text/plain": [
       "(array([[1., 1., 1., 1., 1., 1., 1., 1., 1., 1.],\n",
       "        [1., 1., 1., 1., 1., 1., 1., 1., 1., 1.]]),\n",
       " (2, 10),\n",
       " dtype('float64'))"
      ]
     },
     "execution_count": 15,
     "metadata": {},
     "output_type": "execute_result"
    }
   ],
   "source": [
    "ooo = np.ones((2,10))\n",
    "ooo, ooo.shape , ooo.dtype"
   ]
  },
  {
   "cell_type": "code",
   "execution_count": 16,
   "id": "6a1811bc",
   "metadata": {},
   "outputs": [
    {
     "data": {
      "text/plain": [
       "array([0, 1, 2, 3, 4, 5, 6, 7, 8, 9])"
      ]
     },
     "execution_count": 16,
     "metadata": {},
     "output_type": "execute_result"
    }
   ],
   "source": [
    "np.arange(10)"
   ]
  },
  {
   "cell_type": "code",
   "execution_count": 17,
   "id": "a4ebd22a",
   "metadata": {},
   "outputs": [
    {
     "data": {
      "text/plain": [
       "array([ 4,  5,  6,  7,  8,  9, 10, 11])"
      ]
     },
     "execution_count": 17,
     "metadata": {},
     "output_type": "execute_result"
    }
   ],
   "source": [
    "np.arange(4,12)"
   ]
  },
  {
   "cell_type": "markdown",
   "id": "b2f60aa2",
   "metadata": {},
   "source": [
    "## np.array 연산"
   ]
  },
  {
   "cell_type": "code",
   "execution_count": 19,
   "id": "47c35c6b",
   "metadata": {},
   "outputs": [
    {
     "data": {
      "text/plain": [
       "(array([[1, 2, 3],\n",
       "        [4, 5, 6]]),\n",
       " array([[10, 11, 12],\n",
       "        [13, 14, 15]]))"
      ]
     },
     "execution_count": 19,
     "metadata": {},
     "output_type": "execute_result"
    }
   ],
   "source": [
    "arr1 = np.array([[1,2,3],[4,5,6]])\n",
    "arr2 = np.array([[10,11,12],[13,14,15]])\n",
    "arr1, arr2"
   ]
  },
  {
   "cell_type": "code",
   "execution_count": 21,
   "id": "319f780f",
   "metadata": {},
   "outputs": [
    {
     "name": "stdout",
     "output_type": "stream",
     "text": [
      "(2, 3) int64\n",
      "(2, 3) int64\n"
     ]
    }
   ],
   "source": [
    "print(arr1.shape, arr1.dtype)\n",
    "print(arr2.shape, arr2.dtype)"
   ]
  },
  {
   "cell_type": "code",
   "execution_count": 29,
   "id": "26c6b70f",
   "metadata": {},
   "outputs": [
    {
     "name": "stdout",
     "output_type": "stream",
     "text": [
      "[[ 3  6  9]\n",
      " [12 15 18]]\n",
      "[[11 13 15]\n",
      " [17 19 21]]\n",
      "[[-9 -9 -9]\n",
      " [-9 -9 -9]]\n",
      "[[ 1.   2.9  4.8]\n",
      " [ 6.7  8.6 10.5]]\n",
      "[[10 22 36]\n",
      " [52 70 90]]\n",
      "[[0.1        0.18181818 0.25      ]\n",
      " [0.30769231 0.35714286 0.4       ]]\n",
      "[[23 35 47]\n",
      " [26 38 50]]\n",
      "[[ 22  66 132]\n",
      " [ 88 165 264]]\n"
     ]
    }
   ],
   "source": [
    "\n",
    "result0 = arr1*3\n",
    "result1 = arr1 +arr2\n",
    "result2 = arr1 -arr2\n",
    "result3 = arr1*2 -arr2/10\n",
    "result4 = arr1*arr2\n",
    "result5 = arr1/arr2\n",
    "# 브로드캐스트 : 같은 크기의 배열을 가지지 않아도 요소별 연산이 가능함\n",
    "arr3 = np.array([22,33,44])\n",
    "\n",
    "print(result0)\n",
    "print(result1)\n",
    "print(result2)\n",
    "print(result3)\n",
    "print(result4)\n",
    "print(result5)\n",
    "print(arr1+arr3)\n",
    "print(arr1*arr3)"
   ]
  },
  {
   "cell_type": "markdown",
   "id": "1886b235",
   "metadata": {},
   "source": [
    "# 1차원"
   ]
  },
  {
   "cell_type": "code",
   "execution_count": 3,
   "id": "85301eb0",
   "metadata": {},
   "outputs": [
    {
     "ename": "NameError",
     "evalue": "name 'np' is not defined",
     "output_type": "error",
     "traceback": [
      "\u001b[31m---------------------------------------------------------------------------\u001b[39m",
      "\u001b[31mNameError\u001b[39m                                 Traceback (most recent call last)",
      "\u001b[36mCell\u001b[39m\u001b[36m \u001b[39m\u001b[32mIn[3]\u001b[39m\u001b[32m, line 6\u001b[39m\n\u001b[32m      1\u001b[39m \u001b[38;5;66;03m# 1차원과 속성들\u001b[39;00m\n\u001b[32m      2\u001b[39m \u001b[38;5;66;03m# shape : 배열의 차원정보\u001b[39;00m\n\u001b[32m      3\u001b[39m \u001b[38;5;66;03m# dtype : 배열 원소의 자료형\u001b[39;00m\n\u001b[32m      4\u001b[39m \u001b[38;5;66;03m# size : 배열의 원소 총 개수\u001b[39;00m\n\u001b[32m      5\u001b[39m \u001b[38;5;66;03m# ndim : 축의개수\u001b[39;00m\n\u001b[32m----> \u001b[39m\u001b[32m6\u001b[39m arr = \u001b[43mnp\u001b[49m.arange(\u001b[32m5\u001b[39m)\n\u001b[32m      7\u001b[39m arr, arr.shape, arr.dtype , arr.size , arr.ndim\n",
      "\u001b[31mNameError\u001b[39m: name 'np' is not defined"
     ]
    }
   ],
   "source": [
    "# 1차원과 속성들\n",
    "# shape : 배열의 차원정보\n",
    "# dtype : 배열 원소의 자료형\n",
    "# size : 배열의 원소 총 개수\n",
    "# ndim : 축의개수\n",
    "arr = np.arange(5)\n",
    "arr, arr.shape, arr.dtype , arr.size , arr.ndim\n"
   ]
  },
  {
   "cell_type": "code",
   "execution_count": 32,
   "id": "d408b422",
   "metadata": {},
   "outputs": [
    {
     "name": "stdout",
     "output_type": "stream",
     "text": [
      "[1 2 3 4] int64\n",
      "['1' '2' 'a' 'b'] <U21\n",
      "['1' '2' '3' '4'] <U1\n"
     ]
    }
   ],
   "source": [
    "arr1 = np.array([1,2,3,4])\n",
    "arr2 = np.array([1,2,'a','b'])\n",
    "arr3 = np.array([1,2,3,4], dtype = 'str')\n",
    "\n",
    "print(arr1, arr1.dtype)\n",
    "print(arr2, arr2.dtype)\n",
    "print(arr3, arr3.dtype)"
   ]
  },
  {
   "cell_type": "code",
   "execution_count": 42,
   "id": "30d6c04d",
   "metadata": {},
   "outputs": [
    {
     "name": "stdout",
     "output_type": "stream",
     "text": [
      "[  0  20  40  60  80 100 120 140 160 180 200 220 240 260 280]\n",
      "[ 0 20 40 60 80]\n"
     ]
    }
   ],
   "source": [
    "arr4 = np.full((4,3),\"nope\")\n",
    "arr4\n",
    "arr5 = np.eye(3)\n",
    "arr5\n",
    "arr6 = np.linspace(0,300,15 , endpoint = False, dtype=\"int64\")\n",
    "print(arr6)\n",
    "arr7 = np.arange(0,100,20)\n",
    "print(arr7)"
   ]
  },
  {
   "cell_type": "markdown",
   "id": "70a1d651",
   "metadata": {},
   "source": [
    "# 2차원"
   ]
  },
  {
   "cell_type": "code",
   "execution_count": 6,
   "id": "4fe3f894",
   "metadata": {},
   "outputs": [
    {
     "data": {
      "text/plain": [
       "(array([[1, 2],\n",
       "        [3, 4]]),\n",
       " (2, 2),\n",
       " 4,\n",
       " dtype('int64'),\n",
       " 2,\n",
       " numpy.ndarray)"
      ]
     },
     "execution_count": 6,
     "metadata": {},
     "output_type": "execute_result"
    }
   ],
   "source": [
    "arr20 = np.array([[1,2],[3,4]])\n",
    "arr20 , arr20.shape , arr20.size, arr20.dtype, arr20.ndim , type(arr20)"
   ]
  },
  {
   "cell_type": "code",
   "execution_count": 8,
   "id": "80c1f0be",
   "metadata": {},
   "outputs": [
    {
     "name": "stdout",
     "output_type": "stream",
     "text": [
      "[[1 2 3]\n",
      " [4 5 6]\n",
      " [7 8 9]] (3, 3) 9 int64 2 <class 'numpy.ndarray'>\n",
      "[[ 1  2  3  4  5]\n",
      " [ 6  7  8  9 10]] (2, 5) 10 int64 2 <class 'numpy.ndarray'>\n",
      "[[ 1  2  3  4  5  6]\n",
      " [ 7  8  9 10 11 12]\n",
      " [13 14 15 16 17 18]] (3, 6) 18 int64 2 <class 'numpy.ndarray'>\n"
     ]
    }
   ],
   "source": [
    "try:\n",
    "    arr21 = np.arange(1,10).reshape(3,3)\n",
    "    print(arr21 , arr21.shape , arr21.size, arr21.dtype, arr21.ndim , type(arr21))\n",
    "    arr22 = np.arange(1,11).reshape(2,5)\n",
    "    print(arr22 , arr22.shape , arr22.size, arr22.dtype, arr22.ndim , type(arr22))\n",
    "    arr23 = np.arange(1,19).reshape(3,6)\n",
    "    print(arr23 , arr23.shape , arr23.size, arr23.dtype, arr23.ndim , type(arr23))\n",
    "except ValueError as e:\n",
    "    print(\"차원과 사이즈가 맞지 않아요:\",e)"
   ]
  },
  {
   "cell_type": "markdown",
   "id": "bba0623d",
   "metadata": {},
   "source": [
    "## 인덱싱(마스크)"
   ]
  },
  {
   "cell_type": "code",
   "execution_count": 7,
   "id": "dc006229",
   "metadata": {},
   "outputs": [
    {
     "data": {
      "text/plain": [
       "array([[ 1.02979369,  0.22422559,  0.56012114,  0.82790594],\n",
       "       [ 0.03925628, -0.43197187, -1.30997476,  1.61871523],\n",
       "       [-0.4851426 , -0.33582042,  0.93261283,  1.4408495 ],\n",
       "       [-1.4249151 ,  0.44374138,  0.96073953, -1.30064258],\n",
       "       [ 0.82013684,  0.03972012,  1.24123769, -1.1442716 ],\n",
       "       [-0.6135811 ,  1.03831581,  0.28167551,  0.03187085],\n",
       "       [ 0.65082322,  0.09326696,  0.15598218, -0.17528246],\n",
       "       [-0.03548153,  1.95501189,  0.03101583, -0.96902681]])"
      ]
     },
     "execution_count": 7,
     "metadata": {},
     "output_type": "execute_result"
    }
   ],
   "source": [
    "# 난수 발생\n",
    "import  numpy as np\n",
    "ran_data = np.random.randn(8,4)\n",
    "ran_data"
   ]
  },
  {
   "cell_type": "code",
   "execution_count": 5,
   "id": "84e7ab35",
   "metadata": {},
   "outputs": [
    {
     "data": {
      "text/plain": [
       "array([ True, False,  True, False, False,  True,  True, False])"
      ]
     },
     "execution_count": 5,
     "metadata": {},
     "output_type": "execute_result"
    }
   ],
   "source": [
    "mask = np.array([True,False,True,False,False,True,True,False])\n",
    "mask"
   ]
  },
  {
   "cell_type": "code",
   "execution_count": 8,
   "id": "f4cb5792",
   "metadata": {},
   "outputs": [
    {
     "data": {
      "text/plain": [
       "array([[ 1.02979369,  0.22422559,  0.56012114,  0.82790594],\n",
       "       [-0.4851426 , -0.33582042,  0.93261283,  1.4408495 ],\n",
       "       [-0.6135811 ,  1.03831581,  0.28167551,  0.03187085],\n",
       "       [ 0.65082322,  0.09326696,  0.15598218, -0.17528246]])"
      ]
     },
     "execution_count": 8,
     "metadata": {},
     "output_type": "execute_result"
    }
   ],
   "source": [
    "ran_data[mask]"
   ]
  },
  {
   "cell_type": "code",
   "execution_count": 9,
   "id": "de989463",
   "metadata": {},
   "outputs": [
    {
     "data": {
      "text/plain": [
       "array(['apple', 'banana', 'apple', 'kiwi', 'orange', 'apple', 'apple',\n",
       "       'melon'], dtype='<U6')"
      ]
     },
     "execution_count": 9,
     "metadata": {},
     "output_type": "execute_result"
    }
   ],
   "source": [
    "fruit = np.array(['apple','banana','apple','kiwi','orange','apple','apple','melon'])\n",
    "fruit"
   ]
  },
  {
   "cell_type": "code",
   "execution_count": null,
   "id": "c2459314",
   "metadata": {},
   "outputs": [
    {
     "data": {
      "text/plain": [
       "array([ True, False,  True, False, False,  True,  True, False])"
      ]
     },
     "execution_count": 10,
     "metadata": {},
     "output_type": "execute_result"
    }
   ],
   "source": [
    "fruit_mask = (fruit == 'apple')\n",
    "fruit_mask"
   ]
  },
  {
   "cell_type": "code",
   "execution_count": 11,
   "id": "f312c41a",
   "metadata": {},
   "outputs": [
    {
     "data": {
      "text/plain": [
       "array([[ 1.02979369,  0.22422559,  0.56012114,  0.82790594],\n",
       "       [-0.4851426 , -0.33582042,  0.93261283,  1.4408495 ],\n",
       "       [-0.6135811 ,  1.03831581,  0.28167551,  0.03187085],\n",
       "       [ 0.65082322,  0.09326696,  0.15598218, -0.17528246]])"
      ]
     },
     "execution_count": 11,
     "metadata": {},
     "output_type": "execute_result"
    }
   ],
   "source": [
    "ran_data[fruit_mask]"
   ]
  },
  {
   "cell_type": "code",
   "execution_count": 20,
   "id": "983d4256",
   "metadata": {},
   "outputs": [
    {
     "data": {
      "text/plain": [
       "array([[ 0.22422559,  0.56012114],\n",
       "       [-0.33582042,  0.93261283],\n",
       "       [ 0.03972012,  1.24123769],\n",
       "       [ 1.03831581,  0.28167551],\n",
       "       [ 0.09326696,  0.15598218]])"
      ]
     },
     "execution_count": 20,
     "metadata": {},
     "output_type": "execute_result"
    }
   ],
   "source": [
    "ran_data[ (fruit == 'apple') | (fruit == 'orange') ,1:3] #ran_data[행,열]"
   ]
  },
  {
   "cell_type": "markdown",
   "id": "41049814",
   "metadata": {},
   "source": [
    "## 인덱스와 마스크의 응용"
   ]
  },
  {
   "cell_type": "code",
   "execution_count": 23,
   "id": "c1d39b50",
   "metadata": {},
   "outputs": [
    {
     "data": {
      "text/plain": [
       "array([ True,  True, False, False,  True, False,  True, False])"
      ]
     },
     "execution_count": 23,
     "metadata": {},
     "output_type": "execute_result"
    }
   ],
   "source": [
    "ran_data[:,0] >0"
   ]
  },
  {
   "cell_type": "code",
   "execution_count": null,
   "id": "065c4c11",
   "metadata": {},
   "outputs": [
    {
     "data": {
      "text/plain": [
       "array([1.02979369, 0.22422559, 0.56012114, 0.82790594, 0.03925628,\n",
       "       1.61871523, 0.93261283, 1.4408495 , 0.44374138, 0.96073953,\n",
       "       0.82013684, 0.03972012, 1.24123769, 1.03831581, 0.28167551,\n",
       "       0.03187085, 0.65082322, 0.09326696, 0.15598218, 1.95501189,\n",
       "       0.03101583])"
      ]
     },
     "execution_count": 32,
     "metadata": {},
     "output_type": "execute_result"
    }
   ],
   "source": [
    "ran_data[ran_data[:,:] >0]"
   ]
  },
  {
   "cell_type": "code",
   "execution_count": 64,
   "id": "27b658ac",
   "metadata": {},
   "outputs": [
    {
     "data": {
      "text/plain": [
       "array([[0., 0.],\n",
       "       [0., 0.],\n",
       "       [0., 0.],\n",
       "       [0., 0.]])"
      ]
     },
     "execution_count": 64,
     "metadata": {},
     "output_type": "execute_result"
    }
   ],
   "source": [
    "fl = ran_data[ran_data[:,0] <0 ,1:3]\n",
    "fl"
   ]
  },
  {
   "cell_type": "code",
   "execution_count": null,
   "id": "8a125ef5",
   "metadata": {},
   "outputs": [
    {
     "data": {
      "text/plain": [
       "array([[ 1.02979369,  0.22422559,  0.56012114,  0.82790594],\n",
       "       [ 0.03925628, -0.43197187, -1.30997476,  1.61871523],\n",
       "       [-0.4851426 ,         nan,         nan,  1.4408495 ],\n",
       "       [-1.4249151 ,         nan,         nan, -1.30064258],\n",
       "       [ 0.82013684,  0.03972012,  1.24123769, -1.1442716 ],\n",
       "       [-0.6135811 ,         nan,         nan,  0.03187085],\n",
       "       [ 0.65082322,  0.09326696,  0.15598218, -0.17528246],\n",
       "       [-0.03548153,         nan,         nan, -0.96902681]])"
      ]
     },
     "execution_count": 65,
     "metadata": {},
     "output_type": "execute_result"
    }
   ],
   "source": [
    "fl = ran_data[ran_data[:,0] <0 ,1:3]\n",
    "fl_zeros = np.zeros_like(fl)\n",
    "ran_data[ran_data[:,0] <0 ,1:3] = np.nan #np.nan\n",
    "ran_data"
   ]
  },
  {
   "cell_type": "code",
   "execution_count": 69,
   "id": "b341f4de",
   "metadata": {},
   "outputs": [
    {
     "data": {
      "text/plain": [
       "array([[False, False, False, False],\n",
       "       [False, False, False, False],\n",
       "       [False,  True,  True, False],\n",
       "       [False,  True,  True, False],\n",
       "       [False, False, False, False],\n",
       "       [False,  True,  True, False],\n",
       "       [False, False, False, False],\n",
       "       [False,  True,  True, False]])"
      ]
     },
     "execution_count": 69,
     "metadata": {},
     "output_type": "execute_result"
    }
   ],
   "source": [
    "np.isnan(ran_data)\n",
    "#ran_data == 'nan'"
   ]
  },
  {
   "cell_type": "code",
   "execution_count": 81,
   "id": "69faf765",
   "metadata": {},
   "outputs": [
    {
     "data": {
      "text/plain": [
       "array([[-0.4851426 ,         nan,         nan,  1.4408495 ],\n",
       "       [-1.4249151 ,         nan,         nan, -1.30064258],\n",
       "       [-0.6135811 ,         nan,         nan,  0.03187085],\n",
       "       [-0.03548153,         nan,         nan, -0.96902681]])"
      ]
     },
     "execution_count": 81,
     "metadata": {},
     "output_type": "execute_result"
    }
   ],
   "source": [
    "f2 = ran_data[np.isnan(ran_data).any(axis=1)]\n",
    "f2"
   ]
  },
  {
   "cell_type": "code",
   "execution_count": 82,
   "id": "21c03f5d",
   "metadata": {},
   "outputs": [
    {
     "data": {
      "text/plain": [
       "array([[ 1.02979369,  0.22422559,  0.56012114,  0.82790594],\n",
       "       [ 0.03925628, -0.43197187, -1.30997476,  1.61871523],\n",
       "       [ 0.82013684,  0.03972012,  1.24123769, -1.1442716 ],\n",
       "       [ 0.65082322,  0.09326696,  0.15598218, -0.17528246]])"
      ]
     },
     "execution_count": 82,
     "metadata": {},
     "output_type": "execute_result"
    }
   ],
   "source": [
    "f3 = ran_data[~np.isnan(ran_data).any(axis=1)]\n",
    "f3"
   ]
  },
  {
   "cell_type": "code",
   "execution_count": 85,
   "id": "b9d4f759",
   "metadata": {},
   "outputs": [
    {
     "data": {
      "text/plain": [
       "array([[1.02979369, 0.22422559, 0.56012114, 0.82790594],\n",
       "       [0.03925628, 0.43197187, 1.30997476, 1.61871523],\n",
       "       [0.82013684, 0.03972012, 1.24123769, 1.1442716 ],\n",
       "       [0.65082322, 0.09326696, 0.15598218, 0.17528246]])"
      ]
     },
     "execution_count": 85,
     "metadata": {},
     "output_type": "execute_result"
    }
   ],
   "source": [
    "f4 = np.abs(f3)\n",
    "f4"
   ]
  },
  {
   "cell_type": "code",
   "execution_count": 87,
   "id": "6812837d",
   "metadata": {},
   "outputs": [
    {
     "data": {
      "text/plain": [
       "array([[1.01478751, 0.47352465, 0.74841241, 0.90989337],\n",
       "       [0.19813197, 0.65724567, 1.14454129, 1.2722874 ],\n",
       "       [0.90561407, 0.19929907, 1.11410847, 1.06970631],\n",
       "       [0.80673615, 0.3053964 , 0.3949458 , 0.41866748]])"
      ]
     },
     "execution_count": 87,
     "metadata": {},
     "output_type": "execute_result"
    }
   ],
   "source": [
    "f5 = np.sqrt(f4)\n",
    "f5"
   ]
  },
  {
   "cell_type": "code",
   "execution_count": 88,
   "id": "9f6e8077",
   "metadata": {},
   "outputs": [
    {
     "data": {
      "text/plain": [
       "array([[ 0.01467924, -0.74755132, -0.2898011 , -0.09442786],\n",
       "       [-1.61882195, -0.41969741,  0.13500393,  0.24081638],\n",
       "       [-0.09914204, -1.61294871,  0.10805451,  0.06738414],\n",
       "       [-0.21475861, -1.18614469, -0.92900675, -0.87067827]])"
      ]
     },
     "execution_count": 88,
     "metadata": {},
     "output_type": "execute_result"
    }
   ],
   "source": [
    "f6 = np.log(f5)\n",
    "f6"
   ]
  },
  {
   "cell_type": "code",
   "execution_count": 89,
   "id": "ade92205",
   "metadata": {},
   "outputs": [
    {
     "data": {
      "text/plain": [
       "array([[ 1., -1., -1., -1.],\n",
       "       [-1., -1.,  1.,  1.],\n",
       "       [-1., -1.,  1.,  1.],\n",
       "       [-1., -1., -1., -1.]])"
      ]
     },
     "execution_count": 89,
     "metadata": {},
     "output_type": "execute_result"
    }
   ],
   "source": [
    "np.sign(f6)"
   ]
  },
  {
   "cell_type": "code",
   "execution_count": null,
   "id": "e3b6ef0d",
   "metadata": {},
   "outputs": [
    {
     "data": {
      "text/plain": [
       "array([[ 0.99989226,  0.73335579,  0.95830073,  0.995545  ],\n",
       "       [-0.04800716,  0.91321228,  0.9909008 ,  0.9711436 ],\n",
       "       [ 0.99508945, -0.0421399 ,  0.99416779,  0.99773055],\n",
       "       [ 0.97702787,  0.37523625,  0.5986299 ,  0.64430798]])"
      ]
     },
     "execution_count": 90,
     "metadata": {},
     "output_type": "execute_result"
    }
   ],
   "source": [
    "# 삼각함수 값을 계산하기 (cos, sin, tan, cosh, sinh, tanh)\n",
    "np.cos(f6)"
   ]
  },
  {
   "cell_type": "code",
   "execution_count": 92,
   "id": "dd712e44",
   "metadata": {},
   "outputs": [
    {
     "data": {
      "text/plain": [
       "(array([[ 0.09756623,  0.41185135,  0.20400507, -0.40682418],\n",
       "        [-1.73320186,  2.09148508,  0.08027668, -2.13705088],\n",
       "        [-2.07689664, -0.19994921, -0.87751396,  1.45547023],\n",
       "        [-0.69701199, -0.48802097,  0.34784603,  2.25999064],\n",
       "        [-1.58143786, -0.2089396 , -1.58411949, -2.01432136],\n",
       "        [-0.3867379 , -2.55075204,  0.22861051,  2.42387537],\n",
       "        [ 1.18318037,  2.12838333, -0.55009327,  1.22480156],\n",
       "        [-0.69429782, -0.6786423 , -0.57747722,  0.12765587]]),\n",
       " array([[-0.39499618,  1.10906275, -0.99946391, -0.59338354],\n",
       "        [ 1.24530068, -0.69101064, -0.70592977, -0.36693614],\n",
       "        [ 0.58688908, -0.38738741, -2.03110672, -1.67680227],\n",
       "        [-0.17902458,  0.9054133 , -1.13754129,  0.75662961],\n",
       "        [ 0.24671768,  1.82459105, -0.32153104, -0.49151209],\n",
       "        [-0.1350098 ,  0.57687075,  1.16121662, -1.59903388],\n",
       "        [ 0.92067278, -0.41547924, -0.01061678, -0.69618081],\n",
       "        [ 0.67646913, -0.57755336, -0.35218281,  1.43879676]]))"
      ]
     },
     "execution_count": 92,
     "metadata": {},
     "output_type": "execute_result"
    }
   ],
   "source": [
    "# 두개의 array에 동일한 위치의 요소끼리 비교하기\n",
    "data1 = np.random.randn(8,4)\n",
    "data2 = np.random.randn(8,4)\n",
    "data1 , data2"
   ]
  },
  {
   "cell_type": "code",
   "execution_count": 93,
   "id": "bf2de805",
   "metadata": {},
   "outputs": [
    {
     "data": {
      "text/plain": [
       "array([[ 0.09756623,  1.10906275,  0.20400507, -0.40682418],\n",
       "       [ 1.24530068,  2.09148508,  0.08027668, -0.36693614],\n",
       "       [ 0.58688908, -0.19994921, -0.87751396,  1.45547023],\n",
       "       [-0.17902458,  0.9054133 ,  0.34784603,  2.25999064],\n",
       "       [ 0.24671768,  1.82459105, -0.32153104, -0.49151209],\n",
       "       [-0.1350098 ,  0.57687075,  1.16121662,  2.42387537],\n",
       "       [ 1.18318037,  2.12838333, -0.01061678,  1.22480156],\n",
       "       [ 0.67646913, -0.57755336, -0.35218281,  1.43879676]])"
      ]
     },
     "execution_count": 93,
     "metadata": {},
     "output_type": "execute_result"
    }
   ],
   "source": [
    "np.maximum(data1, data2)"
   ]
  },
  {
   "cell_type": "code",
   "execution_count": 94,
   "id": "c62669fa",
   "metadata": {},
   "outputs": [
    {
     "data": {
      "text/plain": [
       "array([[-0.39499618,  0.41185135, -0.99946391, -0.59338354],\n",
       "       [-1.73320186, -0.69101064, -0.70592977, -2.13705088],\n",
       "       [-2.07689664, -0.38738741, -2.03110672, -1.67680227],\n",
       "       [-0.69701199, -0.48802097, -1.13754129,  0.75662961],\n",
       "       [-1.58143786, -0.2089396 , -1.58411949, -2.01432136],\n",
       "       [-0.3867379 , -2.55075204,  0.22861051, -1.59903388],\n",
       "       [ 0.92067278, -0.41547924, -0.55009327, -0.69618081],\n",
       "       [-0.69429782, -0.6786423 , -0.57747722,  0.12765587]])"
      ]
     },
     "execution_count": 94,
     "metadata": {},
     "output_type": "execute_result"
    }
   ],
   "source": [
    "np.minimum(data1, data2)"
   ]
  },
  {
   "cell_type": "code",
   "execution_count": null,
   "id": "83f4ec45",
   "metadata": {},
   "outputs": [
    {
     "data": {
      "text/plain": [
       "array([[0.09756623, 0.41185135, 0.20400507, 0.        ],\n",
       "       [0.        , 2.09148508, 0.08027668, 0.        ],\n",
       "       [0.        , 0.        , 0.        , 1.45547023],\n",
       "       [0.        , 0.        , 0.34784603, 2.25999064],\n",
       "       [0.        , 0.        , 0.        , 0.        ],\n",
       "       [0.        , 0.        , 0.22861051, 2.42387537],\n",
       "       [1.18318037, 2.12838333, 0.        , 1.22480156],\n",
       "       [0.        , 0.        , 0.        , 0.12765587]])"
      ]
     },
     "execution_count": 96,
     "metadata": {},
     "output_type": "execute_result"
    }
   ],
   "source": [
    "np.maximum(data1 ,0) #Relu(x) 와 같다"
   ]
  },
  {
   "cell_type": "code",
   "execution_count": 97,
   "id": "c777a2a9",
   "metadata": {},
   "outputs": [
    {
     "data": {
      "text/plain": [
       "array([[0.5       , 1.10906275, 0.5       , 0.5       ],\n",
       "       [1.24530068, 0.5       , 0.5       , 0.5       ],\n",
       "       [0.58688908, 0.5       , 0.5       , 0.5       ],\n",
       "       [0.5       , 0.9054133 , 0.5       , 0.75662961],\n",
       "       [0.5       , 1.7       , 0.5       , 0.5       ],\n",
       "       [0.5       , 0.57687075, 1.16121662, 0.5       ],\n",
       "       [0.92067278, 0.5       , 0.5       , 0.5       ],\n",
       "       [0.67646913, 0.5       , 0.5       , 1.43879676]])"
      ]
     },
     "execution_count": 97,
     "metadata": {},
     "output_type": "execute_result"
    }
   ],
   "source": [
    "np.minimum(np.maximum(data2,0.5),1.7)"
   ]
  },
  {
   "cell_type": "markdown",
   "id": "d09a69d0",
   "metadata": {},
   "source": [
    "## 통계함수"
   ]
  },
  {
   "cell_type": "code",
   "execution_count": 104,
   "id": "1dd5ebec",
   "metadata": {},
   "outputs": [
    {
     "data": {
      "text/plain": [
       "array([[ 0.19827304, -1.09506825,  0.95735387, -1.06763686],\n",
       "       [ 1.34323237,  1.13942894, -0.51509849, -0.24640332],\n",
       "       [-0.29614765,  0.51499413,  1.81505468,  0.05736391],\n",
       "       [ 0.64426393,  0.52334275,  1.28471008,  0.77966144]])"
      ]
     },
     "execution_count": 104,
     "metadata": {},
     "output_type": "execute_result"
    }
   ],
   "source": [
    "data = np.random.randn(4,4)\n",
    "data"
   ]
  },
  {
   "cell_type": "code",
   "execution_count": 105,
   "id": "827acc1d",
   "metadata": {},
   "outputs": [
    {
     "data": {
      "text/plain": [
       "np.float64(6.037324568128161)"
      ]
     },
     "execution_count": 105,
     "metadata": {},
     "output_type": "execute_result"
    }
   ],
   "source": [
    "np.sum(data)"
   ]
  },
  {
   "cell_type": "code",
   "execution_count": null,
   "id": "a5e7862c",
   "metadata": {},
   "outputs": [
    {
     "data": {
      "text/plain": [
       "array([-1.0070782 ,  1.7211595 ,  2.09126507,  3.2319782 ])"
      ]
     },
     "execution_count": 107,
     "metadata": {},
     "output_type": "execute_result"
    }
   ],
   "source": [
    "np.sum(data, axis= 1 )"
   ]
  },
  {
   "cell_type": "code",
   "execution_count": 108,
   "id": "5a528899",
   "metadata": {},
   "outputs": [
    {
     "data": {
      "text/plain": [
       "array([ 1.88962168,  1.08269757,  3.54202014, -0.47701483])"
      ]
     },
     "execution_count": 108,
     "metadata": {},
     "output_type": "execute_result"
    }
   ],
   "source": [
    "np.sum(data, axis= 0)"
   ]
  },
  {
   "cell_type": "code",
   "execution_count": 121,
   "id": "4aae1091",
   "metadata": {},
   "outputs": [
    {
     "data": {
      "text/plain": [
       "array([-1.20535124,  0.37792712,  2.38741272,  2.58771427])"
      ]
     },
     "execution_count": 121,
     "metadata": {},
     "output_type": "execute_result"
    }
   ],
   "source": [
    "n1 = np.sum(data[:, 1:], axis= 1 )\n",
    "n1"
   ]
  },
  {
   "cell_type": "code",
   "execution_count": 123,
   "id": "55e6f934",
   "metadata": {},
   "outputs": [
    {
     "data": {
      "text/plain": [
       "array([[-0.28266489,  2.34694076, -0.36321219,  0.53009119,  0.76216142],\n",
       "       [ 1.85876491,  1.50305594,  0.55653509,  0.4781593 ,  1.33521365],\n",
       "       [ 0.62304687,  0.6592261 , -0.52273303,  0.46875478,  1.43206999]])"
      ]
     },
     "execution_count": 123,
     "metadata": {},
     "output_type": "execute_result"
    }
   ],
   "source": [
    "data2 =np.random.randn(3,5)\n",
    "data2"
   ]
  },
  {
   "cell_type": "code",
   "execution_count": null,
   "id": "7e9e6cb3",
   "metadata": {},
   "outputs": [
    {
     "data": {
      "text/plain": [
       "np.float64(0.7590273260970203)"
      ]
     },
     "execution_count": 125,
     "metadata": {},
     "output_type": "execute_result"
    }
   ],
   "source": [
    "# 요소의 평균값\n",
    "np.mean(data2)"
   ]
  },
  {
   "cell_type": "code",
   "execution_count": 127,
   "id": "6c3bf501",
   "metadata": {},
   "outputs": [
    {
     "data": {
      "text/plain": [
       "array([ 0.73304897,  1.50307427, -0.10980337,  0.49233509,  1.17648169])"
      ]
     },
     "execution_count": 127,
     "metadata": {},
     "output_type": "execute_result"
    }
   ],
   "source": [
    "np.mean(data2 , axis=0)"
   ]
  },
  {
   "cell_type": "code",
   "execution_count": 126,
   "id": "666a05fe",
   "metadata": {},
   "outputs": [
    {
     "data": {
      "text/plain": [
       "array([0.59866326, 1.14634578, 0.53207294])"
      ]
     },
     "execution_count": 126,
     "metadata": {},
     "output_type": "execute_result"
    }
   ],
   "source": [
    "np.mean(data2 , axis=1)"
   ]
  },
  {
   "cell_type": "code",
   "execution_count": null,
   "id": "10244ca2",
   "metadata": {},
   "outputs": [
    {
     "data": {
      "text/plain": [
       "array([-0.36321219,  0.4781593 , -0.52273303])"
      ]
     },
     "execution_count": 129,
     "metadata": {},
     "output_type": "execute_result"
    }
   ],
   "source": [
    "np.min(data2 ,axis=1)"
   ]
  },
  {
   "cell_type": "code",
   "execution_count": 130,
   "id": "94820178",
   "metadata": {},
   "outputs": [
    {
     "data": {
      "text/plain": [
       "np.float64(0.7891734897061674)"
      ]
     },
     "execution_count": 130,
     "metadata": {},
     "output_type": "execute_result"
    }
   ],
   "source": [
    "# 표준편차\n",
    "np.std(data2)"
   ]
  },
  {
   "cell_type": "code",
   "execution_count": 131,
   "id": "463beb09",
   "metadata": {},
   "outputs": [
    {
     "data": {
      "text/plain": [
       "np.float64(0.6227947968550104)"
      ]
     },
     "execution_count": 131,
     "metadata": {},
     "output_type": "execute_result"
    }
   ],
   "source": [
    "# 분산\n",
    "np.var(data2)"
   ]
  },
  {
   "cell_type": "code",
   "execution_count": null,
   "id": "715c98b5",
   "metadata": {},
   "outputs": [
    {
     "data": {
      "text/plain": [
       "array([[-1.09506825, -1.06763686,  0.19827304,  0.95735387],\n",
       "       [-0.51509849, -0.24640332,  1.13942894,  1.34323237],\n",
       "       [-0.29614765,  0.05736391,  0.51499413,  1.81505468],\n",
       "       [ 0.52334275,  0.64426393,  0.77966144,  1.28471008]])"
      ]
     },
     "execution_count": 132,
     "metadata": {},
     "output_type": "execute_result"
    }
   ],
   "source": [
    "np.sort(data2)"
   ]
  },
  {
   "cell_type": "code",
   "execution_count": 134,
   "id": "e4cffcff",
   "metadata": {},
   "outputs": [
    {
     "data": {
      "text/plain": [
       "array([[-0.28266489,  0.6592261 , -0.52273303,  0.46875478,  0.76216142],\n",
       "       [ 0.62304687,  1.50305594, -0.36321219,  0.4781593 ,  1.33521365],\n",
       "       [ 1.85876491,  2.34694076,  0.55653509,  0.53009119,  1.43206999]])"
      ]
     },
     "execution_count": 134,
     "metadata": {},
     "output_type": "execute_result"
    }
   ],
   "source": [
    "np.sort(data2 , axis=0)"
   ]
  },
  {
   "cell_type": "code",
   "execution_count": null,
   "id": "6ea3f207",
   "metadata": {},
   "outputs": [
    {
     "name": "stdout",
     "output_type": "stream",
     "text": [
      "각 학생의 평균점수:  [88.75 82.5  90.25 73.75 86.5 ]\n",
      "표준편차가 가장 낮은 학생: stu3 -> [92 88 91 90]\n",
      "90 이상이 가장 많은 학생: stu3 -> [92 88 91 90]\n"
     ]
    }
   ],
   "source": [
    "stu1 = [85,90,88,92]\n",
    "stu2 = [78,81,85,86]\n",
    "stu3 = [92,88,91,90]\n",
    "stu4 = [70,75,72,78]\n",
    "stu5 = [88,85,84,89]\n",
    "\n",
    "sc = np.array([stu1,stu2,stu3,stu4,stu5])\n",
    "avg = np.mean (sc, axis=1)\n",
    "stable = np.std(sc, axis=1)\n",
    "over90_counts = (sc >= 90).sum(axis=1)\n",
    "max_over90_idx = np.argmax(over90_counts)\n",
    "\n",
    "min_std_idx = np.argmin(stable)\n",
    "stu_with_min_std = sc[min_std_idx]\n",
    "print(\"각 학생의 평균점수: \",avg)\n",
    "print(f\"표준편차가 가장 낮은 학생: stu{min_std_idx+1} ->\", sc[min_std_idx])\n",
    "print(f\"90 이상이 가장 많은 학생: stu{max_over90_idx+1} ->\", sc[max_over90_idx])\n",
    "\n"
   ]
  },
  {
   "cell_type": "code",
   "execution_count": null,
   "id": "d675d5fb",
   "metadata": {},
   "outputs": [],
   "source": []
  }
 ],
 "metadata": {
  "kernelspec": {
   "display_name": "Python 3 (ipykernel)",
   "language": "python",
   "name": "python3"
  },
  "language_info": {
   "codemirror_mode": {
    "name": "ipython",
    "version": 3
   },
   "file_extension": ".py",
   "mimetype": "text/x-python",
   "name": "python",
   "nbconvert_exporter": "python",
   "pygments_lexer": "ipython3",
   "version": "3.13.3"
  }
 },
 "nbformat": 4,
 "nbformat_minor": 5
}
