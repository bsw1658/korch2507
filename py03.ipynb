{
 "cells": [
  {
   "cell_type": "markdown",
   "id": "778d589a",
   "metadata": {},
   "source": [
    "# 넘파이 Numpy"
   ]
  },
  {
   "cell_type": "code",
   "execution_count": null,
   "id": "625d0897",
   "metadata": {},
   "outputs": [],
   "source": []
  }
 ],
 "metadata": {
  "language_info": {
   "name": "python"
  }
 },
 "nbformat": 4,
 "nbformat_minor": 5
}
